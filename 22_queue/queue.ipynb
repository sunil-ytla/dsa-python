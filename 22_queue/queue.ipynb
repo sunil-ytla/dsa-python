{
 "cells": [
  {
   "cell_type": "markdown",
   "metadata": {
    "vscode": {
     "languageId": "plaintext"
    }
   },
   "source": [
    "Queue:\n",
    "* datastructure that stores items in first-in/first-out manner\n"
   ]
  },
  {
   "cell_type": "code",
   "execution_count": 14,
   "metadata": {},
   "outputs": [],
   "source": [
    "# Queue using Python\n",
    "\n",
    "class Queue:\n",
    "    def __init__(self):\n",
    "        self.items = []\n",
    "    \n",
    "    def __str__(self):\n",
    "        return str(self.items)\n",
    "    \n",
    "    def is_empty(self):\n",
    "        return self.items == []\n",
    "    \n",
    "    def enqueue(self, value):\n",
    "        self.items.append(value)\n",
    "    \n",
    "    def dequeue(self):\n",
    "        if self.is_empty():\n",
    "            return None\n",
    "        return self.items.pop(0)\n",
    "    \n",
    "    def peek(self):\n",
    "        if self.is_empty():\n",
    "            return None\n",
    "        return self.items[0]\n",
    "    \n",
    "    def delete(self):\n",
    "        self.items = []"
   ]
  },
  {
   "cell_type": "code",
   "execution_count": 15,
   "metadata": {},
   "outputs": [
    {
     "name": "stdout",
     "output_type": "stream",
     "text": [
      "True\n"
     ]
    }
   ],
   "source": [
    "customQueue = Queue()\n",
    "print(customQueue.is_empty())"
   ]
  },
  {
   "cell_type": "code",
   "execution_count": 16,
   "metadata": {},
   "outputs": [
    {
     "name": "stdout",
     "output_type": "stream",
     "text": [
      "[1, 2, 3]\n"
     ]
    }
   ],
   "source": [
    "customQueue.enqueue(1)\n",
    "customQueue.enqueue(2)\n",
    "customQueue.enqueue(3)\n",
    "print(customQueue)"
   ]
  },
  {
   "cell_type": "code",
   "execution_count": 17,
   "metadata": {},
   "outputs": [
    {
     "name": "stdout",
     "output_type": "stream",
     "text": [
      "1\n"
     ]
    }
   ],
   "source": [
    "print(customQueue.dequeue())\n"
   ]
  },
  {
   "cell_type": "code",
   "execution_count": 18,
   "metadata": {},
   "outputs": [
    {
     "name": "stdout",
     "output_type": "stream",
     "text": [
      "[2, 3]\n",
      "False\n"
     ]
    }
   ],
   "source": [
    "print(customQueue)\n",
    "print(customQueue.is_empty())"
   ]
  },
  {
   "cell_type": "code",
   "execution_count": 19,
   "metadata": {},
   "outputs": [
    {
     "name": "stdout",
     "output_type": "stream",
     "text": [
      "2\n"
     ]
    }
   ],
   "source": [
    "print(customQueue.peek())"
   ]
  },
  {
   "cell_type": "code",
   "execution_count": 20,
   "metadata": {},
   "outputs": [
    {
     "name": "stdout",
     "output_type": "stream",
     "text": [
      "True\n"
     ]
    }
   ],
   "source": [
    "customQueue.delete()\n",
    "print(customQueue.is_empty())"
   ]
  },
  {
   "cell_type": "code",
   "execution_count": 43,
   "metadata": {},
   "outputs": [],
   "source": [
    "# Circular queue with python\n",
    "\n",
    "class Queue:\n",
    "    def __init__(self, max_size):\n",
    "        self.items = [None]*max_size\n",
    "        self.max_size = max_size\n",
    "        self.start = -1\n",
    "        self.stop=-1\n",
    "\n",
    "\n",
    "    def __str__(self):\n",
    "        return str(self.items)\n",
    "\n",
    "    def is_full(self):\n",
    "        if (self.start == 0 and self.stop == self.max_size-1) or (self.start == self.stop+1):\n",
    "            return True\n",
    "        return False\n",
    "    \n",
    "    def is_empty(self):\n",
    "        if self.start == -1:\n",
    "            return True\n",
    "        return False\n",
    "\n",
    "    def enqueue(self, value):\n",
    "        if self.is_full():\n",
    "            return \"queue full\"\n",
    "        else:\n",
    "            if self.stop+1 == self.max_size:\n",
    "                self.stop=0\n",
    "            else:\n",
    "                self.stop+=1\n",
    "                if self.start==-1:\n",
    "                    self.start=0\n",
    "            \n",
    "            self.items[self.stop]=value\n",
    "    \n",
    "    def dequeue(self):\n",
    "        if self.is_empty():\n",
    "            return \"queue empty\"\n",
    "        else:\n",
    "            firstElement = self.items[self.start]\n",
    "            start = self.start\n",
    "            if self.start == self.stop:\n",
    "                self.start = -1\n",
    "                self.stop = -1\n",
    "            elif self.start+1 == self.max_size:\n",
    "                self.start = 0\n",
    "            else:\n",
    "                self.start+=1\n",
    "            self.items[start] = None\n",
    "            return firstElement\n",
    "    \n",
    "    def peek(self):\n",
    "        if self.is_empty():\n",
    "            return \"queue empty\"\n",
    "        else:\n",
    "            return self.items[self.start]\n",
    "        \n",
    "    def delete(self):\n",
    "        self.items = self.max_size*[None]\n",
    "        self.start = -1\n",
    "        self.stop = -1\n",
    "\n"
   ]
  },
  {
   "cell_type": "code",
   "execution_count": 44,
   "metadata": {},
   "outputs": [
    {
     "name": "stdout",
     "output_type": "stream",
     "text": [
      "True\n",
      "False\n"
     ]
    }
   ],
   "source": [
    "customQueue = Queue(3)\n",
    "print(customQueue.is_empty())\n",
    "print(customQueue.is_full())"
   ]
  },
  {
   "cell_type": "code",
   "execution_count": 45,
   "metadata": {},
   "outputs": [
    {
     "name": "stdout",
     "output_type": "stream",
     "text": [
      "[1, 2, 4]\n",
      "False\n",
      "True\n"
     ]
    }
   ],
   "source": [
    "customQueue.enqueue(1)\n",
    "customQueue.enqueue(2)\n",
    "customQueue.enqueue(4)\n",
    "print(customQueue)\n",
    "print(customQueue.is_empty())\n",
    "print(customQueue.is_full())"
   ]
  },
  {
   "cell_type": "code",
   "execution_count": 46,
   "metadata": {},
   "outputs": [
    {
     "name": "stdout",
     "output_type": "stream",
     "text": [
      "1\n",
      "[None, 2, 4]\n"
     ]
    }
   ],
   "source": [
    "print(customQueue.dequeue())\n",
    "print(customQueue)"
   ]
  },
  {
   "cell_type": "code",
   "execution_count": 47,
   "metadata": {},
   "outputs": [
    {
     "name": "stdout",
     "output_type": "stream",
     "text": [
      "2\n"
     ]
    }
   ],
   "source": [
    "print(customQueue.peek())"
   ]
  },
  {
   "cell_type": "code",
   "execution_count": 48,
   "metadata": {},
   "outputs": [
    {
     "name": "stdout",
     "output_type": "stream",
     "text": [
      "[None, None, None]\n"
     ]
    }
   ],
   "source": [
    "customQueue.delete()\n",
    "print(customQueue)"
   ]
  },
  {
   "cell_type": "code",
   "execution_count": 69,
   "metadata": {},
   "outputs": [],
   "source": [
    "# Queue using linked list\n",
    "\n",
    "import timeit\n",
    "\n",
    "# Linked List Stack Implementation\n",
    "class Node:\n",
    "    def __init__(self, value=None):\n",
    "        self.value = value\n",
    "        self.next = None\n",
    "\n",
    "    def __str__(self):\n",
    "        return str(self.value)\n",
    "\n",
    "class LinkedList:\n",
    "    def __init__(self):\n",
    "        self.head = None\n",
    "        self.tail = None\n",
    "\n",
    "    def __iter__(self):\n",
    "        curNode = self.head\n",
    "        while curNode:\n",
    "            yield curNode\n",
    "            curNode = curNode.next\n",
    "\n",
    "class Queue:\n",
    "    def __init__(self):\n",
    "        self.linked_list = LinkedList()\n",
    "    \n",
    "    def __str__(self):\n",
    "        values = [str(x) for x in self.linked_list]\n",
    "        return ' '.join(values)\n",
    "\n",
    "    def enqueue(self, value):\n",
    "        new_node = Node(value)\n",
    "        if self.linked_list.head == None:\n",
    "            self.linked_list.head = new_node\n",
    "            self.linked_list.tail = new_node\n",
    "        else:\n",
    "            self.linked_list.tail.next = new_node\n",
    "            self.linked_list.tail = new_node\n",
    "    \n",
    "    def is_empty(self):\n",
    "        return self.linked_list.head == None\n",
    "    \n",
    "    def dequeue(self):\n",
    "        if self.is_empty():\n",
    "            return \"queue is empty\"\n",
    "        else:\n",
    "            temp = self.linked_list.head\n",
    "            if self.linked_list.head == self.linked_list.tail:\n",
    "                self.linked_list.head = self.linked_list.tail = None\n",
    "            else:\n",
    "                self.linked_list.head = self.linked_list.head.next\n",
    "            return temp\n",
    "    \n",
    "    def peek(self):\n",
    "        if self.is_empty():\n",
    "            return \"queue is empty\"\n",
    "        else:\n",
    "            return self.linked_list.head\n",
    "    \n",
    "    def delete(self):\n",
    "        self.linked_list.head = None\n",
    "        self.linked_list.tail = None\n",
    "\n"
   ]
  },
  {
   "cell_type": "code",
   "execution_count": 70,
   "metadata": {},
   "outputs": [
    {
     "name": "stdout",
     "output_type": "stream",
     "text": [
      "1 2 3\n"
     ]
    }
   ],
   "source": [
    "customQueue = Queue()\n",
    "customQueue.enqueue(1)\n",
    "customQueue.enqueue(2)\n",
    "customQueue.enqueue(3)\n",
    "print(customQueue)"
   ]
  },
  {
   "cell_type": "code",
   "execution_count": 71,
   "metadata": {},
   "outputs": [
    {
     "name": "stdout",
     "output_type": "stream",
     "text": [
      "1\n",
      "2 3\n"
     ]
    }
   ],
   "source": [
    "print(customQueue.dequeue())\n",
    "print(customQueue)"
   ]
  },
  {
   "cell_type": "code",
   "execution_count": 72,
   "metadata": {},
   "outputs": [
    {
     "name": "stdout",
     "output_type": "stream",
     "text": [
      "2\n"
     ]
    }
   ],
   "source": [
    "print(customQueue.peek())"
   ]
  },
  {
   "cell_type": "code",
   "execution_count": 75,
   "metadata": {},
   "outputs": [
    {
     "name": "stdout",
     "output_type": "stream",
     "text": [
      "True\n"
     ]
    }
   ],
   "source": [
    "customQueue.delete()\n",
    "print(customQueue.is_empty())"
   ]
  },
  {
   "cell_type": "code",
   "execution_count": 76,
   "metadata": {},
   "outputs": [
    {
     "name": "stdout",
     "output_type": "stream",
     "text": [
      "deque([], maxlen=3)\n"
     ]
    }
   ],
   "source": [
    "# Queue using deque\n",
    "from collections import deque\n",
    "\n",
    "customQueue = deque(maxlen=3)\n",
    "print(customQueue)"
   ]
  },
  {
   "cell_type": "code",
   "execution_count": 77,
   "metadata": {},
   "outputs": [
    {
     "name": "stdout",
     "output_type": "stream",
     "text": [
      "deque([1, 2, 3], maxlen=3)\n"
     ]
    }
   ],
   "source": [
    "customQueue.append(1)\n",
    "customQueue.append(2)\n",
    "customQueue.append(3)\n",
    "print(customQueue)"
   ]
  },
  {
   "cell_type": "code",
   "execution_count": 78,
   "metadata": {},
   "outputs": [
    {
     "name": "stdout",
     "output_type": "stream",
     "text": [
      "deque([2, 3, 4], maxlen=3)\n"
     ]
    }
   ],
   "source": [
    "customQueue.append(4)\n",
    "print(customQueue)"
   ]
  },
  {
   "cell_type": "code",
   "execution_count": 79,
   "metadata": {},
   "outputs": [
    {
     "name": "stdout",
     "output_type": "stream",
     "text": [
      "2\n",
      "deque([3, 4], maxlen=3)\n"
     ]
    }
   ],
   "source": [
    "print(customQueue.popleft())\n",
    "print(customQueue)"
   ]
  },
  {
   "cell_type": "code",
   "execution_count": 82,
   "metadata": {},
   "outputs": [
    {
     "name": "stdout",
     "output_type": "stream",
     "text": [
      "3\n",
      "4\n"
     ]
    }
   ],
   "source": [
    "print(customQueue[0])\n",
    "print(customQueue[1])"
   ]
  },
  {
   "cell_type": "code",
   "execution_count": 83,
   "metadata": {},
   "outputs": [
    {
     "name": "stdout",
     "output_type": "stream",
     "text": [
      "None\n",
      "deque([], maxlen=3)\n"
     ]
    }
   ],
   "source": [
    "print(customQueue.clear())\n",
    "print(customQueue)"
   ]
  },
  {
   "cell_type": "code",
   "execution_count": 15,
   "metadata": {},
   "outputs": [
    {
     "name": "stdout",
     "output_type": "stream",
     "text": [
      "True\n",
      "False\n"
     ]
    }
   ],
   "source": [
    "# Queue using queue module\n",
    "import queue as q\n",
    "\n",
    "customQueue = q.Queue(maxsize=3)\n",
    "print(customQueue.empty())\n",
    "print(customQueue.full())\n"
   ]
  },
  {
   "cell_type": "code",
   "execution_count": 16,
   "metadata": {},
   "outputs": [
    {
     "name": "stdout",
     "output_type": "stream",
     "text": [
      "True\n",
      "3\n"
     ]
    }
   ],
   "source": [
    "customQueue.put(1)\n",
    "customQueue.put(2)\n",
    "customQueue.put(3)\n",
    "print(customQueue.full())\n",
    "print(customQueue.qsize())\n"
   ]
  },
  {
   "cell_type": "code",
   "execution_count": 17,
   "metadata": {},
   "outputs": [
    {
     "name": "stdout",
     "output_type": "stream",
     "text": [
      "1\n"
     ]
    }
   ],
   "source": [
    "print(customQueue.get())\n"
   ]
  },
  {
   "cell_type": "code",
   "execution_count": 26,
   "metadata": {},
   "outputs": [
    {
     "name": "stdout",
     "output_type": "stream",
     "text": [
      "True\n",
      "False\n"
     ]
    }
   ],
   "source": [
    "# queue using multiprocessing module\n",
    "from multiprocessing import Queue\n",
    "\n",
    "customQueue = Queue(maxsize=3)\n",
    "print(customQueue.empty())\n",
    "print(customQueue.full())"
   ]
  },
  {
   "cell_type": "code",
   "execution_count": 27,
   "metadata": {},
   "outputs": [
    {
     "name": "stdout",
     "output_type": "stream",
     "text": [
      "True\n"
     ]
    }
   ],
   "source": [
    "customQueue.put(1)\n",
    "customQueue.put(2)\n",
    "customQueue.put(3)\n",
    "print(customQueue.full())"
   ]
  },
  {
   "cell_type": "code",
   "execution_count": 28,
   "metadata": {},
   "outputs": [
    {
     "name": "stdout",
     "output_type": "stream",
     "text": [
      "1\n"
     ]
    }
   ],
   "source": [
    "print(customQueue.get())"
   ]
  },
  {
   "cell_type": "code",
   "execution_count": null,
   "metadata": {},
   "outputs": [],
   "source": []
  }
 ],
 "metadata": {
  "kernelspec": {
   "display_name": "Python 3",
   "language": "python",
   "name": "python3"
  },
  "language_info": {
   "codemirror_mode": {
    "name": "ipython",
    "version": 3
   },
   "file_extension": ".py",
   "mimetype": "text/x-python",
   "name": "python",
   "nbconvert_exporter": "python",
   "pygments_lexer": "ipython3",
   "version": "3.10.16"
  }
 },
 "nbformat": 4,
 "nbformat_minor": 2
}
