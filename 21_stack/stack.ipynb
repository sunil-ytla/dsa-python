{
 "cells": [
  {
   "cell_type": "markdown",
   "metadata": {},
   "source": [
    "stack is a data structure that stores items in last in/ first out manner"
   ]
  },
  {
   "cell_type": "markdown",
   "metadata": {
    "vscode": {
     "languageId": "plaintext"
    }
   },
   "source": [
    "Stack using Python List\n",
    "* easy to implement\n",
    "* speed problem when grows\n",
    "\n",
    "Stack using Linked list\n",
    "* Implementation is not easy\n",
    "* Fast performance"
   ]
  },
  {
   "cell_type": "code",
   "execution_count": 43,
   "metadata": {},
   "outputs": [],
   "source": [
    "# using Python list\n",
    "class Stack:\n",
    "\n",
    "    def __init__(self):\n",
    "        self.list = []\n",
    "\n",
    "    def __str__(self):\n",
    "        values = [str(x) for x in reversed(self.list)]\n",
    "        return \"\\n\".join(values)\n",
    "    \n",
    "    def is_empty(self):\n",
    "        if self.list == []:\n",
    "            return True\n",
    "        else:\n",
    "            return False\n",
    "        \n",
    "    def push(self, value):\n",
    "        self.list.append(value)\n",
    "    \n",
    "\n",
    "    def pop(self):\n",
    "        if self.is_empty():\n",
    "            return \"no element in the stack\"\n",
    "        return self.list.pop()\n",
    "\n",
    "    def peek(self):\n",
    "        if self.is_empty():\n",
    "            return \"no element\"\n",
    "        return self.list[-1]\n",
    "\n",
    "    def delete(self):\n",
    "        self.list = None\n"
   ]
  },
  {
   "cell_type": "code",
   "execution_count": 44,
   "metadata": {},
   "outputs": [
    {
     "name": "stdout",
     "output_type": "stream",
     "text": [
      "True\n"
     ]
    }
   ],
   "source": [
    "customStack = Stack()\n",
    "print(customStack.is_empty())"
   ]
  },
  {
   "cell_type": "code",
   "execution_count": 45,
   "metadata": {},
   "outputs": [
    {
     "name": "stdout",
     "output_type": "stream",
     "text": [
      "10\n",
      "7\n",
      "1\n"
     ]
    }
   ],
   "source": [
    "\n",
    "customStack.push(1)\n",
    "customStack.push(7)\n",
    "customStack.push(10)\n",
    "print(customStack)"
   ]
  },
  {
   "cell_type": "code",
   "execution_count": 46,
   "metadata": {},
   "outputs": [
    {
     "name": "stdout",
     "output_type": "stream",
     "text": [
      "10\n"
     ]
    }
   ],
   "source": [
    "print(customStack.pop())"
   ]
  },
  {
   "cell_type": "code",
   "execution_count": 48,
   "metadata": {},
   "outputs": [
    {
     "name": "stdout",
     "output_type": "stream",
     "text": [
      "7\n"
     ]
    }
   ],
   "source": [
    "print(customStack.peek())"
   ]
  },
  {
   "cell_type": "code",
   "execution_count": 49,
   "metadata": {},
   "outputs": [],
   "source": [
    "# Stack with limited elements\n",
    "class Stack:\n",
    "\n",
    "    def __init__(self, max_size):\n",
    "        self.max_size = max_size\n",
    "        self.list = []\n",
    "\n",
    "    def __str__(self):\n",
    "        values = [str(x) for x in reversed(self.list)]\n",
    "        return \"\\n\".join(values)\n",
    "    \n",
    "    def is_empty(self):\n",
    "        if self.list == []:\n",
    "            return True\n",
    "        else:\n",
    "            return False\n",
    "    \n",
    "    def is_full(self):\n",
    "        if len(self.list)==self.max_size:\n",
    "            return True\n",
    "        else:\n",
    "            return False\n",
    "        \n",
    "    def push(self, value):\n",
    "        if self.is_full():\n",
    "            return \"the stack is full\"\n",
    "        else:\n",
    "            self.list.append(value)\n",
    "            return \"sucessfully inserted\"\n",
    "    \n",
    "\n",
    "    def pop(self):\n",
    "        if self.is_empty():\n",
    "            return \"no element in the stack\"\n",
    "        return self.list.pop()\n",
    "\n",
    "    def peek(self):\n",
    "        if self.is_empty():\n",
    "            return \"no element\"\n",
    "        return self.list[-1]\n",
    "\n",
    "    def delete(self):\n",
    "        self.list = None\n"
   ]
  },
  {
   "cell_type": "code",
   "execution_count": 53,
   "metadata": {},
   "outputs": [
    {
     "name": "stdout",
     "output_type": "stream",
     "text": [
      "True\n",
      "False\n",
      "sucessfully inserted\n",
      "sucessfully inserted\n",
      "sucessfully inserted\n"
     ]
    }
   ],
   "source": [
    "customStack = Stack(3)\n",
    "print(customStack.is_empty())\n",
    "print(customStack.is_full())\n",
    "print(customStack.push(1))\n",
    "print(customStack.push(3))\n",
    "print(customStack.push(6))"
   ]
  },
  {
   "cell_type": "code",
   "execution_count": 54,
   "metadata": {},
   "outputs": [
    {
     "name": "stdout",
     "output_type": "stream",
     "text": [
      "6\n",
      "3\n",
      "1\n"
     ]
    }
   ],
   "source": [
    "print(customStack)"
   ]
  },
  {
   "cell_type": "code",
   "execution_count": 64,
   "metadata": {},
   "outputs": [],
   "source": [
    "# Linked list using stack\n",
    "\n",
    "class Node:\n",
    "    def __init__(self, value = None):\n",
    "        self.value = value\n",
    "        self.next = None\n",
    " \n",
    "class LinkedList:\n",
    "    def __init__(self):\n",
    "        self.head = None\n",
    "    \n",
    "    def __iter__(self):\n",
    "        curNode = self.head\n",
    "        while curNode:\n",
    "            yield curNode\n",
    "            curNode = curNode.next\n",
    "\n",
    "class Stack:\n",
    "    def __init__(self):\n",
    "        self.linked_list = LinkedList()\n",
    "\n",
    "    def __str__(self):\n",
    "        values = [str(x.value) for x in self.linked_list]\n",
    "        return '\\n'.join(values)\n",
    "    \n",
    "    def isEmpty(self):\n",
    "        if self.linked_list.head == None:\n",
    "            return True\n",
    "        else:\n",
    "            return False\n",
    "    \n",
    "    def push(self, value):\n",
    "        node = Node(value)\n",
    "        node.next = self.linked_list.head\n",
    "        self.linked_list.head = node\n",
    "    \n",
    "    def pop(self):\n",
    "        if self.isEmpty():\n",
    "            return \"stack is empty\"\n",
    "        else:\n",
    "            temp = self.linked_list.head\n",
    "            self.linked_list.head = self.linked_list.head.next\n",
    "            return temp.value\n",
    "    \n",
    "    def peek(self):\n",
    "        if self.isEmpty():\n",
    "            return \"stack is empty\"\n",
    "        else:\n",
    "            self.linked_list.head.value\n",
    "    \n",
    "    def delete(self):\n",
    "        self.linked_list.head = None\n"
   ]
  },
  {
   "cell_type": "code",
   "execution_count": 65,
   "metadata": {},
   "outputs": [
    {
     "name": "stdout",
     "output_type": "stream",
     "text": [
      "True\n"
     ]
    }
   ],
   "source": [
    "customStack = Stack()\n",
    "print(customStack.isEmpty())"
   ]
  },
  {
   "cell_type": "code",
   "execution_count": 68,
   "metadata": {},
   "outputs": [
    {
     "name": "stdout",
     "output_type": "stream",
     "text": [
      "7\n",
      "3\n",
      "1\n",
      "--------\n",
      "3\n",
      "1\n"
     ]
    }
   ],
   "source": [
    "customStack = Stack()\n",
    "customStack.push(1)\n",
    "customStack.push(3)\n",
    "customStack.push(7)\n",
    "print(customStack)\n",
    "print(\"--------\")\n",
    "customStack.pop()\n",
    "print(customStack)"
   ]
  },
  {
   "cell_type": "code",
   "execution_count": 72,
   "metadata": {},
   "outputs": [
    {
     "name": "stdout",
     "output_type": "stream",
     "text": [
      "Linked List Stack - Push: 2.657507 sec\n",
      "Python List Stack - Push: 1.035737 sec\n",
      "Linked List Stack - Pop: 1.890631 sec\n",
      "Python List Stack - Pop: 1.038676 sec\n"
     ]
    }
   ],
   "source": [
    "import timeit\n",
    "\n",
    "# Linked List Stack Implementation\n",
    "class Node:\n",
    "    def __init__(self, value=None):\n",
    "        self.value = value\n",
    "        self.next = None\n",
    "\n",
    "class LinkedList:\n",
    "    def __init__(self):\n",
    "        self.head = None\n",
    "\n",
    "    def __iter__(self):\n",
    "        curNode = self.head\n",
    "        while curNode:\n",
    "            yield curNode\n",
    "            curNode = curNode.next\n",
    "\n",
    "class LinkedListStack:\n",
    "    def __init__(self):\n",
    "        self.linked_list = LinkedList()\n",
    "\n",
    "    def push(self, value):\n",
    "        node = Node(value)\n",
    "        node.next = self.linked_list.head\n",
    "        self.linked_list.head = node\n",
    "    \n",
    "    def pop(self):\n",
    "        if self.linked_list.head is None:\n",
    "            return None\n",
    "        temp = self.linked_list.head\n",
    "        self.linked_list.head = self.linked_list.head.next\n",
    "        return temp.value\n",
    "\n",
    "# Python List Stack Implementation\n",
    "class ListStack:\n",
    "    def __init__(self):\n",
    "        self.list = []\n",
    "    \n",
    "    def push(self, value):\n",
    "        self.list.append(value)\n",
    "    \n",
    "    def pop(self):\n",
    "        if not self.list:\n",
    "            return None\n",
    "        return self.list.pop()\n",
    "\n",
    "# Performance Testing\n",
    "linked_list_stack = LinkedListStack()\n",
    "list_stack = ListStack()\n",
    "n = 10000000  # Number of operations\n",
    "\n",
    "# Measure push performance\n",
    "time_linked_list_push = timeit.timeit(lambda: linked_list_stack.push(1), number=n)\n",
    "time_list_push = timeit.timeit(lambda: list_stack.push(1), number=n)\n",
    "\n",
    "# Measure pop performance\n",
    "time_linked_list_pop = timeit.timeit(lambda: linked_list_stack.pop(), number=n)\n",
    "time_list_pop = timeit.timeit(lambda: list_stack.pop(), number=n)\n",
    "\n",
    "print(f\"Linked List Stack - Push: {time_linked_list_push:.6f} sec\")\n",
    "print(f\"Python List Stack - Push: {time_list_push:.6f} sec\")\n",
    "print(f\"Linked List Stack - Pop: {time_linked_list_pop:.6f} sec\")\n",
    "print(f\"Python List Stack - Pop: {time_list_pop:.6f} sec\")\n"
   ]
  },
  {
   "cell_type": "code",
   "execution_count": null,
   "metadata": {},
   "outputs": [],
   "source": []
  }
 ],
 "metadata": {
  "kernelspec": {
   "display_name": "Python 3",
   "language": "python",
   "name": "python3"
  },
  "language_info": {
   "codemirror_mode": {
    "name": "ipython",
    "version": 3
   },
   "file_extension": ".py",
   "mimetype": "text/x-python",
   "name": "python",
   "nbconvert_exporter": "python",
   "pygments_lexer": "ipython3",
   "version": "3.10.16"
  }
 },
 "nbformat": 4,
 "nbformat_minor": 2
}
