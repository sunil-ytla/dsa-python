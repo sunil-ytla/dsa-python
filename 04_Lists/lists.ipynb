{
 "cells": [
  {
   "cell_type": "code",
   "execution_count": 3,
   "metadata": {},
   "outputs": [
    {
     "name": "stdout",
     "output_type": "stream",
     "text": [
      "True\n"
     ]
    }
   ],
   "source": [
    "list_a = ['a', 'b', 'c', 'd', 'e']\n",
    "\n",
    "print('a' in list_a)"
   ]
  },
  {
   "cell_type": "code",
   "execution_count": 4,
   "metadata": {},
   "outputs": [
    {
     "name": "stdout",
     "output_type": "stream",
     "text": [
      "False\n"
     ]
    }
   ],
   "source": [
    "print('f' in list_a)"
   ]
  },
  {
   "cell_type": "code",
   "execution_count": 5,
   "metadata": {},
   "outputs": [
    {
     "name": "stdout",
     "output_type": "stream",
     "text": [
      "['z', 'a', 'b', 'c', 'd', 'e']\n"
     ]
    }
   ],
   "source": [
    "# insert an element at beginning of list\n",
    "list_a.insert(0, 'z')\n",
    "print(list_a)"
   ]
  },
  {
   "cell_type": "code",
   "execution_count": 8,
   "metadata": {},
   "outputs": [
    {
     "name": "stdout",
     "output_type": "stream",
     "text": [
      "inserting at end: [1, 2, 3, 4]\n",
      "inserting at beginning: [0, 1, 2, 3, 4]\n",
      "inserting in the middle: [0, 1, 1.5, 2, 3, 4]\n"
     ]
    }
   ],
   "source": [
    "# Inserting at the end\n",
    "my_list = [1, 2, 3]\n",
    "my_list.append(4)  # O(1) on average\n",
    "print(f\"inserting at end: {my_list}\")\n",
    "\n",
    "# Inserting at the beginning\n",
    "my_list.insert(0, 0)  # O(n)\n",
    "print(f\"inserting at beginning: {my_list}\")\n",
    "\n",
    "# Inserting in the middle\n",
    "my_list.insert(2, 1.5)  # O(n)\n",
    "print(f\"inserting in the middle: {my_list}\")"
   ]
  },
  {
   "cell_type": "code",
   "execution_count": 9,
   "metadata": {},
   "outputs": [
    {
     "name": "stdout",
     "output_type": "stream",
     "text": [
      "[1, 2, 3, 4, 5, 6]\n"
     ]
    }
   ],
   "source": [
    "# Original list\n",
    "original_list = [1, 2, 3]\n",
    "\n",
    "# List to extend with\n",
    "new_elements = [4, 5, 6]\n",
    "\n",
    "# Extend the original list\n",
    "original_list.extend(new_elements)\n",
    "\n",
    "print(original_list)  # Output: [1, 2, 3, 4, 5, 6]"
   ]
  },
  {
   "cell_type": "code",
   "execution_count": 10,
   "metadata": {},
   "outputs": [
    {
     "name": "stdout",
     "output_type": "stream",
     "text": [
      "[2, 3]\n"
     ]
    }
   ],
   "source": [
    "# Slicing a list\n",
    "my_list = [1, 2, 3, 4, 5]\n",
    "print(my_list[1:3])  # Output: [2, 3]"
   ]
  },
  {
   "cell_type": "code",
   "execution_count": 11,
   "metadata": {},
   "outputs": [
    {
     "name": "stdout",
     "output_type": "stream",
     "text": [
      "x = 3, my_list = [1, 2, 4, 5]\n"
     ]
    }
   ],
   "source": [
    "# pop method\n",
    "my_list = [1, 2, 3, 4, 5]\n",
    "x = my_list.pop(2) # Output: x = 3, my_list = [1, 2, 4, 5]\n",
    "print(f\"x = {x}, my_list = {my_list}\")"
   ]
  },
  {
   "cell_type": "code",
   "execution_count": 12,
   "metadata": {},
   "outputs": [
    {
     "name": "stdout",
     "output_type": "stream",
     "text": [
      "[1, 2, 4, 5]\n"
     ]
    }
   ],
   "source": [
    "# del statement\n",
    "my_list = [1, 2, 3, 4, 5]\n",
    "del my_list[2]  # Output: [1, 2, 4, 5]\n",
    "print(my_list)"
   ]
  },
  {
   "cell_type": "code",
   "execution_count": 14,
   "metadata": {},
   "outputs": [
    {
     "name": "stdout",
     "output_type": "stream",
     "text": [
      "['a', 'c', 'd']\n"
     ]
    }
   ],
   "source": [
    "# remove method\n",
    "my_list = ['a', 'b', 'c', 'd']\n",
    "my_list.remove('b') # Output: ['a', 'c', 'd']\n",
    "print(my_list)"
   ]
  },
  {
   "cell_type": "code",
   "execution_count": 15,
   "metadata": {},
   "outputs": [
    {
     "name": "stdout",
     "output_type": "stream",
     "text": [
      "[]\n"
     ]
    }
   ],
   "source": [
    "# clear method\n",
    "my_list = [1, 2, 3, 4, 5]\n",
    "my_list.clear()  # Output: []\n",
    "print(my_list)"
   ]
  },
  {
   "cell_type": "code",
   "execution_count": 16,
   "metadata": {},
   "outputs": [
    {
     "name": "stdout",
     "output_type": "stream",
     "text": [
      "2\n"
     ]
    }
   ],
   "source": [
    "# count method\n",
    "my_list = [1, 2, 2, 3, 4, 5]\n",
    "print(my_list.count(2))  # Output: 2\n"
   ]
  },
  {
   "cell_type": "code",
   "execution_count": 18,
   "metadata": {},
   "outputs": [
    {
     "name": "stdout",
     "output_type": "stream",
     "text": [
      "1\n"
     ]
    }
   ],
   "source": [
    "# index method\n",
    "my_list = [1, 2, 2, 3, 4, 5]\n",
    "print(my_list.index(2))  # Output: 1"
   ]
  },
  {
   "cell_type": "code",
   "execution_count": 19,
   "metadata": {},
   "outputs": [
    {
     "name": "stdout",
     "output_type": "stream",
     "text": [
      "[5, 4, 3, 2, 1]\n"
     ]
    }
   ],
   "source": [
    "# reverse method\n",
    "my_list = [1, 2, 3, 4, 5]\n",
    "my_list.reverse()  # Output: [5, 4, 3, 2, 1]\n",
    "print(my_list)"
   ]
  },
  {
   "cell_type": "code",
   "execution_count": 20,
   "metadata": {},
   "outputs": [
    {
     "name": "stdout",
     "output_type": "stream",
     "text": [
      "[1, 2, 3, 4, 5]\n"
     ]
    }
   ],
   "source": [
    "# sort method\n",
    "my_list = [3, 5, 1, 4, 2]\n",
    "my_list.sort()  # Output: [1, 2, 3, 4, 5]\n",
    "print(my_list)"
   ]
  },
  {
   "cell_type": "code",
   "execution_count": 21,
   "metadata": {},
   "outputs": [
    {
     "name": "stdout",
     "output_type": "stream",
     "text": [
      "[1, 2, 3, 4, 5]\n"
     ]
    }
   ],
   "source": [
    "# copy method\n",
    "my_list = [1, 2, 3, 4, 5]\n",
    "new_list = my_list.copy()\n",
    "print(new_list)  # Output: [1, 2, 3, 4, 5]"
   ]
  },
  {
   "cell_type": "code",
   "execution_count": 22,
   "metadata": {},
   "outputs": [
    {
     "name": "stdout",
     "output_type": "stream",
     "text": [
      "[1, 4, 9, 16, 25]\n"
     ]
    }
   ],
   "source": [
    "# list comprehension\n",
    "my_list = [1, 2, 3, 4, 5]\n",
    "squared_list = [x**2 for x in my_list]\n",
    "print(squared_list)  # Output: [1, 4, 9, 16, 25]"
   ]
  },
  {
   "cell_type": "code",
   "execution_count": 23,
   "metadata": {},
   "outputs": [
    {
     "name": "stdout",
     "output_type": "stream",
     "text": [
      "[2, 4]\n"
     ]
    }
   ],
   "source": [
    "# list comprehension with if condition\n",
    "my_list = [1, 2, 3, 4, 5]\n",
    "even_list = [x for x in my_list if x % 2 == 0]\n",
    "print(even_list)  # Output: [2, 4]"
   ]
  },
  {
   "cell_type": "code",
   "execution_count": 24,
   "metadata": {},
   "outputs": [
    {
     "name": "stdout",
     "output_type": "stream",
     "text": [
      "[2, 2, 6, 4, 10]\n"
     ]
    }
   ],
   "source": [
    "# list comprehension with if else condition\n",
    "my_list = [1, 2, 3, 4, 5]\n",
    "new_list = [x if x % 2 == 0 else x * 2 for x in my_list]\n",
    "print(new_list)  # Output: [2, 2, 6, 4, 10]"
   ]
  },
  {
   "cell_type": "code",
   "execution_count": 25,
   "metadata": {},
   "outputs": [
    {
     "name": "stdout",
     "output_type": "stream",
     "text": [
      "[1, 2, 3, 4, 5, 6]\n"
     ]
    }
   ],
   "source": [
    "# Nested list comprehension\n",
    "matrix = [[1, 2], [3, 4], [5, 6]]\n",
    "flattened = [num for row in matrix for num in row]\n",
    "print(flattened)  # Output: [1, 2, 3, 4, 5, 6]"
   ]
  },
  {
   "cell_type": "code",
   "execution_count": 26,
   "metadata": {},
   "outputs": [
    {
     "name": "stdout",
     "output_type": "stream",
     "text": [
      "[2, 4, 6]\n"
     ]
    }
   ],
   "source": [
    "# Nested list comprehension with if condition\n",
    "matrix = [[1, 2], [3, 4], [5, 6]]\n",
    "filtered = [num for row in matrix for num in row if num % 2 == 0]\n",
    "print(filtered)  # Output: [2, 4, 6]"
   ]
  },
  {
   "cell_type": "code",
   "execution_count": 27,
   "metadata": {},
   "outputs": [
    {
     "name": "stdout",
     "output_type": "stream",
     "text": [
      "['Odd', 2, 'Odd', 4, 'Odd', 6]\n"
     ]
    }
   ],
   "source": [
    "# Nested list comprehension with if else condition\n",
    "matrix = [[1, 2], [3, 4], [5, 6]]\n",
    "filtered = [num if num % 2 == 0 else 'Odd' for row in matrix for num in row]\n",
    "print(filtered)  # Output: ['Odd', 2, 'Odd', 4, 'Odd', 6]"
   ]
  },
  {
   "cell_type": "code",
   "execution_count": 28,
   "metadata": {},
   "outputs": [
    {
     "name": "stdout",
     "output_type": "stream",
     "text": [
      "[5, 7, 9]\n"
     ]
    }
   ],
   "source": [
    "# List comprehension with zip\n",
    "list1 = [1, 2, 3]\n",
    "list2 = [4, 5, 6]\n",
    "sum_list = [x + y for x, y in zip(list1, list2)]\n",
    "print(sum_list)  # Output: [5, 7, 9]"
   ]
  },
  {
   "cell_type": "code",
   "execution_count": 29,
   "metadata": {},
   "outputs": [
    {
     "name": "stdout",
     "output_type": "stream",
     "text": [
      "[(0, 'a'), (1, 'b'), (2, 'c'), (3, 'd')]\n"
     ]
    }
   ],
   "source": [
    "# List comprehension with enumerate\n",
    "my_list = ['a', 'b', 'c', 'd']\n",
    "indexed_list = [(i, j) for i, j in enumerate(my_list)]\n",
    "print(indexed_list)  # Output: [(0, 'a'), (1, 'b'), (2, 'c'), (3, 'd')]"
   ]
  },
  {
   "cell_type": "code",
   "execution_count": 30,
   "metadata": {},
   "outputs": [
    {
     "name": "stdout",
     "output_type": "stream",
     "text": [
      "{0: 'apple', 1: 'banana', 2: 'cherry'}\n"
     ]
    }
   ],
   "source": [
    "# List comprehension with dictionary\n",
    "my_list = ['apple', 'banana', 'cherry']\n",
    "dict_list = {i: j for i, j in enumerate(my_list)}\n",
    "print(dict_list)  # Output: {0: 'apple', 1: 'banana', 2: 'cherry'}"
   ]
  },
  {
   "cell_type": "code",
   "execution_count": 31,
   "metadata": {},
   "outputs": [
    {
     "name": "stdout",
     "output_type": "stream",
     "text": [
      "{1, 2, 3, 4, 5}\n"
     ]
    }
   ],
   "source": [
    "# List comprehension with set\n",
    "my_list = [1, 2, 2, 3, 4, 5]\n",
    "set_list = {x for x in my_list}\n",
    "print(set_list)  # Output: {1, 2, 3, 4, 5}"
   ]
  },
  {
   "cell_type": "code",
   "execution_count": 32,
   "metadata": {},
   "outputs": [
    {
     "name": "stdout",
     "output_type": "stream",
     "text": [
      "(1, 2, 3, 4, 5)\n"
     ]
    }
   ],
   "source": [
    "# List comprehension with tuple\n",
    "my_list = [1, 2, 3, 4, 5]\n",
    "tuple_list = tuple(x for x in my_list)\n",
    "print(tuple_list)  # Output: (1, 2, 3, 4, 5)"
   ]
  },
  {
   "cell_type": "code",
   "execution_count": 34,
   "metadata": {},
   "outputs": [
    {
     "name": "stdout",
     "output_type": "stream",
     "text": [
      "apple, banana, cherry\n"
     ]
    }
   ],
   "source": [
    "# List comprehension with string\n",
    "my_list = ['apple', 'banana', 'cherry']\n",
    "string_list = ', '.join(my_list)\n",
    "print(string_list)  # Output: apple, banana, cherry"
   ]
  },
  {
   "cell_type": "code",
   "execution_count": 35,
   "metadata": {},
   "outputs": [
    {
     "name": "stdout",
     "output_type": "stream",
     "text": [
      "Found\n"
     ]
    }
   ],
   "source": [
    "# search for an element in a list\n",
    "my_list = [1, 2, 3, 4, 5]\n",
    "if 3 in my_list:\n",
    "    print('Found')\n",
    "else:\n",
    "    print('Not found')"
   ]
  },
  {
   "cell_type": "code",
   "execution_count": 37,
   "metadata": {},
   "outputs": [
    {
     "name": "stdout",
     "output_type": "stream",
     "text": [
      "Element found at index 2\n"
     ]
    }
   ],
   "source": [
    "# linear search\n",
    "def linear_search(arr, target):\n",
    "    for i in range(len(arr)):\n",
    "        if arr[i] == target:\n",
    "            return i\n",
    "    return -1\n",
    "\n",
    "arr = [1, 2, 3, 4, 5]\n",
    "target = 3\n",
    "result = linear_search(arr, target)\n",
    "if result != -1:\n",
    "    print(f\"Element found at index {result}\")\n",
    "else:\n",
    "    print(\"Element not found\")"
   ]
  },
  {
   "cell_type": "code",
   "execution_count": 38,
   "metadata": {},
   "outputs": [
    {
     "name": "stdout",
     "output_type": "stream",
     "text": [
      "[1, 2, 3, 4, 5]\n"
     ]
    }
   ],
   "source": [
    "# * operator\n",
    "my_list = [1, 2, 3]\n",
    "new_list = [*my_list, 4, 5]\n",
    "print(new_list)  # Output: [1, 2, 3, 4, 5]"
   ]
  },
  {
   "cell_type": "code",
   "execution_count": 41,
   "metadata": {},
   "outputs": [
    {
     "name": "stdout",
     "output_type": "stream",
     "text": [
      "[1, 2, 1, 2, 1, 2, 1, 2]\n"
     ]
    }
   ],
   "source": [
    "# * operator\n",
    "my_list = [1, 2]\n",
    "new_list = 4 * my_list\n",
    "print(new_list)  # Output: [1, 2, 3, 1, 2, 3, 1, 2, 3, 1, 2, 3]"
   ]
  },
  {
   "cell_type": "code",
   "execution_count": 42,
   "metadata": {},
   "outputs": [
    {
     "name": "stdout",
     "output_type": "stream",
     "text": [
      "5\n"
     ]
    }
   ],
   "source": [
    "# len function\n",
    "my_list = [1, 2, 3, 4, 5]\n",
    "print(len(my_list))  # Output: 5\n"
   ]
  },
  {
   "cell_type": "code",
   "execution_count": 43,
   "metadata": {},
   "outputs": [
    {
     "name": "stdout",
     "output_type": "stream",
     "text": [
      "5\n"
     ]
    }
   ],
   "source": [
    "# max function\n",
    "my_list = [1, 2, 3, 4, 5]\n",
    "print(max(my_list))  # Output: 5"
   ]
  },
  {
   "cell_type": "code",
   "execution_count": 44,
   "metadata": {},
   "outputs": [
    {
     "name": "stdout",
     "output_type": "stream",
     "text": [
      "1\n"
     ]
    }
   ],
   "source": [
    "# min function\n",
    "my_list = [1, 2, 3, 4, 5]\n",
    "print(min(my_list))  # Output: 1"
   ]
  },
  {
   "cell_type": "code",
   "execution_count": 45,
   "metadata": {},
   "outputs": [
    {
     "name": "stdout",
     "output_type": "stream",
     "text": [
      "15\n"
     ]
    }
   ],
   "source": [
    "# sum function\n",
    "my_list = [1, 2, 3, 4, 5]\n",
    "print(sum(my_list))  # Output: 15"
   ]
  },
  {
   "cell_type": "code",
   "execution_count": 46,
   "metadata": {},
   "outputs": [
    {
     "name": "stdout",
     "output_type": "stream",
     "text": [
      "['h', 'e', 'l', 'l', 'o']\n"
     ]
    }
   ],
   "source": [
    "# list function\n",
    "my_string = 'hello'\n",
    "print(list(my_string))  # Output: ['h', 'e', 'l', 'l', 'o']"
   ]
  },
  {
   "cell_type": "code",
   "execution_count": 47,
   "metadata": {},
   "outputs": [
    {
     "name": "stdout",
     "output_type": "stream",
     "text": [
      "['apple', 'banana', 'cherry']\n"
     ]
    }
   ],
   "source": [
    "# split method\n",
    "my_string = 'apple,banana,cherry'\n",
    "print(my_string.split(','))  # Output: ['apple', 'banana', 'cherry']"
   ]
  },
  {
   "cell_type": "code",
   "execution_count": 49,
   "metadata": {},
   "outputs": [
    {
     "name": "stdout",
     "output_type": "stream",
     "text": [
      "apple-banana-cherry\n"
     ]
    }
   ],
   "source": [
    "# join method\n",
    "my_list = ['apple', 'banana', 'cherry']\n",
    "print('-'.join(my_list))  # Output: apple, banana, cherry"
   ]
  },
  {
   "cell_type": "code",
   "execution_count": 50,
   "metadata": {},
   "outputs": [],
   "source": [
    "# array vs list\n",
    "import numpy as np\n",
    "\n",
    "myArray = np.array([1, 2, 3, 4, 5])\n",
    "myList = [1, 2, 3, 4, 5]\n",
    "\n",
    "\n"
   ]
  },
  {
   "cell_type": "code",
   "execution_count": 51,
   "metadata": {},
   "outputs": [
    {
     "data": {
      "text/plain": [
       "array([0.5, 1. , 1.5, 2. , 2.5])"
      ]
     },
     "execution_count": 51,
     "metadata": {},
     "output_type": "execute_result"
    }
   ],
   "source": [
    "myArray/2"
   ]
  },
  {
   "cell_type": "code",
   "execution_count": 52,
   "metadata": {},
   "outputs": [
    {
     "ename": "TypeError",
     "evalue": "unsupported operand type(s) for /: 'list' and 'int'",
     "output_type": "error",
     "traceback": [
      "\u001b[0;31m---------------------------------------------------------------------------\u001b[0m",
      "\u001b[0;31mTypeError\u001b[0m                                 Traceback (most recent call last)",
      "Cell \u001b[0;32mIn[52], line 1\u001b[0m\n\u001b[0;32m----> 1\u001b[0m \u001b[43mmyList\u001b[49m\u001b[38;5;241;43m/\u001b[39;49m\u001b[38;5;241;43m2\u001b[39;49m\n",
      "\u001b[0;31mTypeError\u001b[0m: unsupported operand type(s) for /: 'list' and 'int'"
     ]
    }
   ],
   "source": [
    "myList/2"
   ]
  },
  {
   "cell_type": "code",
   "execution_count": 59,
   "metadata": {},
   "outputs": [
    {
     "name": "stdout",
     "output_type": "stream",
     "text": [
      "myArray: ['1' '2' '3' '4' '5' 'aa']\n",
      "myList: [1, 2, 3, 4, 5, 'aa']\n"
     ]
    }
   ],
   "source": [
    "myArray = np.array([1, 2, 3, 4, 5, 'aa'])\n",
    "myList = [1, 2, 3, 4, 5, 'aa']\n",
    "print(f\"myArray: {myArray}\")\n",
    "print(f\"myList: {myList}\")"
   ]
  },
  {
   "cell_type": "code",
   "execution_count": 62,
   "metadata": {},
   "outputs": [
    {
     "data": {
      "text/plain": [
       "array(['1', '2', '3', '4', '5', 'aa'], dtype='<U21')"
      ]
     },
     "execution_count": 62,
     "metadata": {},
     "output_type": "execute_result"
    }
   ],
   "source": [
    "myArray"
   ]
  },
  {
   "cell_type": "code",
   "execution_count": null,
   "metadata": {},
   "outputs": [],
   "source": []
  }
 ],
 "metadata": {
  "kernelspec": {
   "display_name": "Python 3",
   "language": "python",
   "name": "python3"
  },
  "language_info": {
   "codemirror_mode": {
    "name": "ipython",
    "version": 3
   },
   "file_extension": ".py",
   "mimetype": "text/x-python",
   "name": "python",
   "nbconvert_exporter": "python",
   "pygments_lexer": "ipython3",
   "version": "3.10.15"
  }
 },
 "nbformat": 4,
 "nbformat_minor": 2
}
