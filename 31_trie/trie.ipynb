{
 "cells": [
  {
   "cell_type": "code",
   "execution_count": 22,
   "metadata": {},
   "outputs": [],
   "source": [
    "class TrieNode:\n",
    "    def __init__(self):\n",
    "        self.children = {}\n",
    "        self.end_of_string = False\n",
    "\n",
    "class Trie:\n",
    "    def __init__(self):\n",
    "        self.root = TrieNode()\n",
    "\n",
    "    def insert_string(self, word):\n",
    "        current = self.root\n",
    "        for i in word:\n",
    "            node = current.children.get(i)\n",
    "            if node == None:\n",
    "                node = TrieNode()\n",
    "                current.children.update({i:node})\n",
    "            current = node\n",
    "        current.end_of_string = True\n",
    "        print(\"sucessfulley inserted\")\n",
    "\n",
    "\n",
    "    def search(self, word):\n",
    "        current = self.root\n",
    "        for i in word:\n",
    "            node = current.children.get(i)\n",
    "            if node:\n",
    "                current = node\n",
    "            else:\n",
    "                return False\n",
    "        if current and current.end_of_string:\n",
    "            return True\n",
    "        return False\n",
    "    \n",
    "\n",
    "def deleteString(root, word, index):\n",
    "    ch = word[index]\n",
    "    currentNode = root.children.get(ch)\n",
    "    canThisNodeBeDeleted = False\n",
    "\n",
    "    # has more than one dependant cannot be deleted\n",
    "    if len(currentNode.children) > 1:\n",
    "        deleteString(currentNode, word, index+1)\n",
    "        return False\n",
    "    \n",
    "    if index == len(word) - 1:\n",
    "        if len(currentNode.children) >= 1:\n",
    "            currentNode.endOfString = False\n",
    "            return False\n",
    "        else:\n",
    "            root.children.pop(ch)\n",
    "            return True\n",
    "    \n",
    "    if currentNode.endOfString == True:\n",
    "        deleteString(currentNode, word, index+1)\n",
    "        return False\n",
    "\n",
    "    canThisNodeBeDeleted = deleteString(currentNode, word, index+1)\n",
    "    if canThisNodeBeDeleted == True:\n",
    "        root.children.pop(ch)\n",
    "        return True\n",
    "    else:\n",
    "        return False\n",
    "        \n",
    "\n",
    "\n"
   ]
  },
  {
   "cell_type": "code",
   "execution_count": 23,
   "metadata": {},
   "outputs": [
    {
     "name": "stdout",
     "output_type": "stream",
     "text": [
      "sucessfulley inserted\n",
      "sucessfulley inserted\n",
      "Done\n"
     ]
    }
   ],
   "source": [
    "newTrie = Trie()\n",
    "newTrie.insert_string(\"App\")\n",
    "newTrie.insert_string(\"Appl\")\n",
    "print(\"Done\")"
   ]
  },
  {
   "cell_type": "code",
   "execution_count": 25,
   "metadata": {},
   "outputs": [
    {
     "data": {
      "text/plain": [
       "True"
      ]
     },
     "execution_count": 25,
     "metadata": {},
     "output_type": "execute_result"
    }
   ],
   "source": [
    "newTrie.search(\"App\")"
   ]
  },
  {
   "cell_type": "code",
   "execution_count": null,
   "metadata": {},
   "outputs": [],
   "source": []
  },
  {
   "cell_type": "code",
   "execution_count": null,
   "metadata": {},
   "outputs": [],
   "source": []
  },
  {
   "cell_type": "code",
   "execution_count": null,
   "metadata": {},
   "outputs": [],
   "source": []
  },
  {
   "cell_type": "code",
   "execution_count": null,
   "metadata": {},
   "outputs": [],
   "source": []
  },
  {
   "cell_type": "code",
   "execution_count": null,
   "metadata": {},
   "outputs": [],
   "source": []
  },
  {
   "cell_type": "code",
   "execution_count": null,
   "metadata": {},
   "outputs": [],
   "source": []
  },
  {
   "cell_type": "code",
   "execution_count": null,
   "metadata": {},
   "outputs": [],
   "source": []
  },
  {
   "cell_type": "code",
   "execution_count": 33,
   "metadata": {},
   "outputs": [
    {
     "name": "stdout",
     "output_type": "stream",
     "text": [
      "True\n",
      "False\n",
      "True\n",
      "True\n",
      "True\n",
      "True\n"
     ]
    }
   ],
   "source": [
    "class Trie:\n",
    "    def __init__(self):\n",
    "        self.root = {}  # Root node is an empty dictionary\n",
    "        self.end_symbol = \"*\"  # Special character to mark the end of a word\n",
    "\n",
    "    def insert(self, word):\n",
    "        node = self.root\n",
    "        for char in word:\n",
    "            if char not in node:\n",
    "                node[char] = {}  # Create a new node if character not found\n",
    "            node = node[char]  # Move to the next node\n",
    "        node[self.end_symbol] = True  # Mark the end of a word\n",
    "\n",
    "    def search(self, word):\n",
    "        node = self.root\n",
    "        for char in word:\n",
    "            if char not in node:\n",
    "                return False  # If character is missing, word is not in Trie\n",
    "            node = node[char]\n",
    "        return self.end_symbol in node  # Return True if end symbol is found\n",
    "\n",
    "    def starts_with(self, prefix):\n",
    "        node = self.root\n",
    "        for char in prefix:\n",
    "            if char not in node:\n",
    "                return False  # If character is missing, prefix is not in Trie\n",
    "            node = node[char]\n",
    "        return True  # If we successfully reach the last character of prefix\n",
    "\n",
    "    def delete(self, word):\n",
    "        def _delete(node, word, depth=0):\n",
    "            if depth == len(word):\n",
    "                if self.end_symbol in node:\n",
    "                    del node[self.end_symbol]  # Remove end symbol\n",
    "                    return len(node) == 0  # If node is empty, return True\n",
    "                return False\n",
    "            char = word[depth]\n",
    "            if char not in node:\n",
    "                return False  # Word does not exist\n",
    "            should_delete = _delete(node[char], word, depth + 1)\n",
    "            if should_delete:\n",
    "                del node[char]  # Remove node if it's empty\n",
    "                return len(node) == 0\n",
    "            return False\n",
    "\n",
    "        _delete(self.root, word)\n",
    "\n",
    "# Example Usage:\n",
    "trie = Trie()\n",
    "trie.insert(\"apple\")\n",
    "print(trie.search(\"apple\"))  # True\n",
    "print(trie.search(\"app\"))    # False\n",
    "print(trie.starts_with(\"app\"))  # True\n",
    "trie.insert(\"app\")\n",
    "print(trie.search(\"app\"))    # True\n",
    "# trie.delete(\"apple\")\n",
    "print(trie.search(\"apple\"))  # False\n",
    "print(trie.search(\"app\"))    # True\n"
   ]
  },
  {
   "cell_type": "code",
   "execution_count": 34,
   "metadata": {},
   "outputs": [
    {
     "name": "stdout",
     "output_type": "stream",
     "text": [
      "{\n",
      "    \"a\": {\n",
      "        \"p\": {\n",
      "            \"p\": {\n",
      "                \"l\": {\n",
      "                    \"e\": {\n",
      "                        \"*\": true\n",
      "                    }\n",
      "                },\n",
      "                \"*\": true\n",
      "            }\n",
      "        }\n",
      "    }\n",
      "}\n"
     ]
    }
   ],
   "source": [
    "import json\n",
    "print(json.dumps(trie.root, indent=4))"
   ]
  },
  {
   "cell_type": "code",
   "execution_count": null,
   "metadata": {},
   "outputs": [],
   "source": []
  }
 ],
 "metadata": {
  "kernelspec": {
   "display_name": "Python 3",
   "language": "python",
   "name": "python3"
  },
  "language_info": {
   "codemirror_mode": {
    "name": "ipython",
    "version": 3
   },
   "file_extension": ".py",
   "mimetype": "text/x-python",
   "name": "python",
   "nbconvert_exporter": "python",
   "pygments_lexer": "ipython3",
   "version": "3.10.16"
  }
 },
 "nbformat": 4,
 "nbformat_minor": 2
}
