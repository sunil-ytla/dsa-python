{
 "cells": [
  {
   "cell_type": "code",
   "execution_count": 2,
   "metadata": {},
   "outputs": [
    {
     "name": "stdout",
     "output_type": "stream",
     "text": [
      "The average temperature is 35.0 degrees.\n",
      "The following days were above average:\n",
      "Day 4: 38 degrees\n",
      "Day 5: 39 degrees\n"
     ]
    }
   ],
   "source": [
    "def proj():\n",
    "    # ask how many days the user wants to track\n",
    "    days = int(input(\"How many days do you want to track? \"))\n",
    "    # create a list to store the daily temperatures\n",
    "    temps = []\n",
    "    # iterate over the number of days\n",
    "    for i in range(days):\n",
    "        # ask the user for the temperature\n",
    "        temp = int(input(f\"Enter the temperature for day {i+1}: \"))\n",
    "        # add the temperature to the list\n",
    "        temps.append(temp)\n",
    "    # calculate the average temperature\n",
    "    avg_temp = sum(temps) / len(temps)\n",
    "    # print the average temperature\n",
    "    print(f\"The average temperature is {avg_temp} degrees.\")\n",
    "    # print the days that were above average\n",
    "    print(\"The following days were above average:\")\n",
    "    for i in range(len(temps)):\n",
    "        if temps[i] > avg_temp:\n",
    "            print(f\"Day {i+1}: {temps[i]} degrees\")\n",
    "    \n",
    "if __name__ == \"__main__\":\n",
    "    proj()"
   ]
  },
  {
   "cell_type": "code",
   "execution_count": null,
   "metadata": {},
   "outputs": [],
   "source": []
  }
 ],
 "metadata": {
  "kernelspec": {
   "display_name": "Python 3",
   "language": "python",
   "name": "python3"
  },
  "language_info": {
   "codemirror_mode": {
    "name": "ipython",
    "version": 3
   },
   "file_extension": ".py",
   "mimetype": "text/x-python",
   "name": "python",
   "nbconvert_exporter": "python",
   "pygments_lexer": "ipython3",
   "version": "3.10.15"
  }
 },
 "nbformat": 4,
 "nbformat_minor": 2
}
