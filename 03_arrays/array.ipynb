{
 "cells": [
  {
   "cell_type": "code",
   "execution_count": 2,
   "metadata": {},
   "outputs": [
    {
     "data": {
      "text/plain": [
       "array.array"
      ]
     },
     "execution_count": 2,
     "metadata": {},
     "output_type": "execute_result"
    }
   ],
   "source": [
    "from array import array"
   ]
  },
  {
   "cell_type": "code",
   "execution_count": 3,
   "metadata": {},
   "outputs": [
    {
     "data": {
      "text/plain": [
       "array('i')"
      ]
     },
     "execution_count": 3,
     "metadata": {},
     "output_type": "execute_result"
    }
   ],
   "source": [
    "array('i')"
   ]
  },
  {
   "cell_type": "code",
   "execution_count": 4,
   "metadata": {},
   "outputs": [
    {
     "data": {
      "text/plain": [
       "array('i', [1, 2, 3, 4, 5])"
      ]
     },
     "execution_count": 4,
     "metadata": {},
     "output_type": "execute_result"
    }
   ],
   "source": [
    "my_array = array('i', [1, 2, 3, 4, 5])\n",
    "my_array"
   ]
  },
  {
   "cell_type": "code",
   "execution_count": 2,
   "metadata": {},
   "outputs": [
    {
     "data": {
      "text/plain": [
       "array([1, 2, 3, 4, 5])"
      ]
     },
     "execution_count": 2,
     "metadata": {},
     "output_type": "execute_result"
    }
   ],
   "source": [
    "import numpy as np\n",
    "\n",
    "np_array = np.array([1, 2, 3, 4, 5])\n",
    "np_array"
   ]
  },
  {
   "cell_type": "code",
   "execution_count": 7,
   "metadata": {},
   "outputs": [],
   "source": [
    "def linear_search(arr, item):\n",
    "    for i,j in enumerate(arr):\n",
    "        if j == item:\n",
    "            return i\n",
    "    return -1"
   ]
  },
  {
   "cell_type": "code",
   "execution_count": 9,
   "metadata": {},
   "outputs": [
    {
     "data": {
      "text/plain": [
       "-1"
      ]
     },
     "execution_count": 9,
     "metadata": {},
     "output_type": "execute_result"
    }
   ],
   "source": [
    "my_array = np.array([1,2,3,4,5,6])\n",
    "\n",
    "linear_search(my_array, 10)"
   ]
  },
  {
   "cell_type": "code",
   "execution_count": 11,
   "metadata": {},
   "outputs": [
    {
     "name": "stdout",
     "output_type": "stream",
     "text": [
      "Time taken to create list: 0.156240 seconds\n",
      "Time taken to create Python array: 0.511110 seconds\n",
      "Time taken to create NumPy array: 0.012349 seconds\n"
     ]
    }
   ],
   "source": [
    "import time\n",
    "import array\n",
    "import numpy as np\n",
    "\n",
    "# Initialize variables\n",
    "size = 10**7\n",
    "\n",
    "# 1. Time creation of a list\n",
    "list_time_start = time.time()\n",
    "my_list = [i for i in range(size)]\n",
    "list_time_end = time.time()\n",
    "\n",
    "# 2. Time creation of a Python array\n",
    "array_time_start = time.time()\n",
    "my_array = array.array('i', (i for i in range(size)))  # 'i' for integer\n",
    "array_time_end = time.time()\n",
    "\n",
    "# 3. Time creation of a NumPy array\n",
    "numpy_time_start = time.time()\n",
    "my_numpy_array = np.arange(size)\n",
    "numpy_time_end = time.time()\n",
    "\n",
    "# Print the results\n",
    "list_time = list_time_end - list_time_start\n",
    "array_time = array_time_end - array_time_start\n",
    "numpy_time = numpy_time_end - numpy_time_start\n",
    "\n",
    "print(f\"Time taken to create list: {list_time:.6f} seconds\")\n",
    "print(f\"Time taken to create Python array: {array_time:.6f} seconds\")\n",
    "print(f\"Time taken to create NumPy array: {numpy_time:.6f} seconds\")\n"
   ]
  },
  {
   "cell_type": "code",
   "execution_count": 12,
   "metadata": {},
   "outputs": [
    {
     "name": "stdout",
     "output_type": "stream",
     "text": [
      "Time taken to insert at start of list: 2.472689 seconds\n",
      "Time taken to insert at start of Python array: 0.395879 seconds\n",
      "Time taken to insert at start of NumPy array: 1.438120 seconds\n"
     ]
    }
   ],
   "source": [
    "## INSERTING AT START COMPARISON\n",
    "\n",
    "import time\n",
    "import array\n",
    "import numpy as np\n",
    "\n",
    "# Initialize variables\n",
    "size = 10**5  # Reduced size due to inefficiency of inserting at the start\n",
    "\n",
    "# 1. Time insertion at the start of a list\n",
    "list_time_start = time.time()\n",
    "my_list = []\n",
    "for i in range(size):\n",
    "    my_list.insert(0, i)  # Insert at the start\n",
    "list_time_end = time.time()\n",
    "\n",
    "# 2. Time insertion at the start of a Python array\n",
    "array_time_start = time.time()\n",
    "my_array = array.array('i')\n",
    "for i in range(size):\n",
    "    my_array.insert(0, i)  # Insert at the start\n",
    "array_time_end = time.time()\n",
    "\n",
    "# 3. Time insertion at the start of a NumPy array\n",
    "numpy_time_start = time.time()\n",
    "my_numpy_array = np.array([], dtype=int)\n",
    "for i in range(size):\n",
    "    my_numpy_array = np.insert(my_numpy_array, 0, i)  # Insert at the start\n",
    "numpy_time_end = time.time()\n",
    "\n",
    "# Print the results\n",
    "list_time = list_time_end - list_time_start\n",
    "array_time = array_time_end - array_time_start\n",
    "numpy_time = numpy_time_end - numpy_time_start\n",
    "\n",
    "print(f\"Time taken to insert at start of list: {list_time:.6f} seconds\")\n",
    "print(f\"Time taken to insert at start of Python array: {array_time:.6f} seconds\")\n",
    "print(f\"Time taken to insert at start of NumPy array: {numpy_time:.6f} seconds\")\n"
   ]
  },
  {
   "cell_type": "code",
   "execution_count": 13,
   "metadata": {},
   "outputs": [
    {
     "name": "stdout",
     "output_type": "stream",
     "text": [
      "Time taken to iterate over list with enumerate: 0.051578 seconds\n",
      "Time taken to iterate over list with range(len): 0.042723 seconds\n",
      "Time taken to iterate over NumPy array with enumerate: 0.049307 seconds\n",
      "Time taken to iterate over NumPy array with range(len): 0.068565 seconds\n"
     ]
    }
   ],
   "source": [
    "import time\n",
    "import numpy as np\n",
    "\n",
    "# Initialize variables\n",
    "size = 10**6\n",
    "my_list = list(range(size))\n",
    "my_numpy_array = np.arange(size)\n",
    "\n",
    "# 1. Time iteration over list using enumerate\n",
    "list_enum_time_start = time.time()\n",
    "for idx, value in enumerate(my_list):\n",
    "    pass\n",
    "list_enum_time_end = time.time()\n",
    "\n",
    "# 2. Time iteration over list using range(len)\n",
    "list_range_time_start = time.time()\n",
    "for idx in range(len(my_list)):\n",
    "    value = my_list[idx]\n",
    "    pass\n",
    "list_range_time_end = time.time()\n",
    "\n",
    "# 3. Time iteration over NumPy array using enumerate\n",
    "numpy_enum_time_start = time.time()\n",
    "for idx, value in enumerate(my_numpy_array):\n",
    "    pass\n",
    "numpy_enum_time_end = time.time()\n",
    "\n",
    "# 4. Time iteration over NumPy array using range(len)\n",
    "numpy_range_time_start = time.time()\n",
    "for idx in range(len(my_numpy_array)):\n",
    "    value = my_numpy_array[idx]\n",
    "    pass\n",
    "numpy_range_time_end = time.time()\n",
    "\n",
    "# Print the results\n",
    "list_enum_time = list_enum_time_end - list_enum_time_start\n",
    "list_range_time = list_range_time_end - list_range_time_start\n",
    "numpy_enum_time = numpy_enum_time_end - numpy_enum_time_start\n",
    "numpy_range_time = numpy_range_time_end - numpy_range_time_start\n",
    "\n",
    "print(f\"Time taken to iterate over list with enumerate: {list_enum_time:.6f} seconds\")\n",
    "print(f\"Time taken to iterate over list with range(len): {list_range_time:.6f} seconds\")\n",
    "print(f\"Time taken to iterate over NumPy array with enumerate: {numpy_enum_time:.6f} seconds\")\n",
    "print(f\"Time taken to iterate over NumPy array with range(len): {numpy_range_time:.6f} seconds\")\n"
   ]
  },
  {
   "cell_type": "code",
   "execution_count": 1,
   "metadata": {},
   "outputs": [
    {
     "name": "stdout",
     "output_type": "stream",
     "text": [
      "[[1 2 3]\n",
      " [4 5 6]\n",
      " [7 8 9]]\n"
     ]
    }
   ],
   "source": [
    "# Create two dimensional array\n",
    "import numpy as np\n",
    "\n",
    "twoDArray = np.array([[1, 2, 3], [4, 5, 6], [7, 8, 9]])\n",
    "print(twoDArray)"
   ]
  },
  {
   "cell_type": "code",
   "execution_count": 2,
   "metadata": {},
   "outputs": [
    {
     "name": "stdout",
     "output_type": "stream",
     "text": [
      "[[ 1  2  3 10]\n",
      " [ 4  5  6 11]\n",
      " [ 7  8  9 12]]\n"
     ]
    }
   ],
   "source": [
    "# Adding Columns to a 2D NumPy Array\n",
    "import numpy as np\n",
    "\n",
    "twoDArray = np.array([[1, 2, 3], [4, 5, 6], [7, 8, 9]])\n",
    "newColumn = np.array([[10], [11], [12]])\n",
    "new2DArray = np.append(twoDArray, newColumn, axis=1)\n",
    "print(new2DArray)"
   ]
  },
  {
   "cell_type": "markdown",
   "metadata": {},
   "source": [
    "The np.append function needs to iterate over all elements in both arrays to create a new array. If twoDArray has m rows and n columns, the time complexity for this operation is O(m * n)."
   ]
  },
  {
   "cell_type": "code",
   "execution_count": 3,
   "metadata": {},
   "outputs": [
    {
     "name": "stdout",
     "output_type": "stream",
     "text": [
      "[[10  1  2  3]\n",
      " [11  4  5  6]\n",
      " [12  7  8  9]]\n"
     ]
    }
   ],
   "source": [
    "# Adding Columns at the Start of a 2D NumPy Array\n",
    "import numpy as np\n",
    "\n",
    "twoDArray = np.array([[1, 2, 3], [4, 5, 6], [7, 8, 9]])\n",
    "newColumn = np.array([[10], [11], [12]])\n",
    "new2DArray = np.append(newColumn, twoDArray, axis=1)\n",
    "print(new2DArray)\n"
   ]
  },
  {
   "cell_type": "code",
   "execution_count": 4,
   "metadata": {},
   "outputs": [
    {
     "name": "stdout",
     "output_type": "stream",
     "text": [
      "[[ 1  2  3]\n",
      " [ 4  5  6]\n",
      " [ 7  8  9]\n",
      " [10 11 12]]\n"
     ]
    }
   ],
   "source": [
    "# Adding Rows to a 2D NumPy Array\n",
    "import numpy as np\n",
    "\n",
    "twoDArray = np.array([[1, 2, 3], [4, 5, 6], [7, 8, 9]])\n",
    "newRow = np.array([[10, 11, 12]])\n",
    "new2DArray = np.append(twoDArray, newRow, axis=0)\n",
    "print(new2DArray)\n"
   ]
  },
  {
   "cell_type": "code",
   "execution_count": 9,
   "metadata": {},
   "outputs": [
    {
     "name": "stdout",
     "output_type": "stream",
     "text": [
      "[[ 1  2  3]\n",
      " [ 4  5  6]\n",
      " [10 11 12]\n",
      " [ 7  8  9]]\n"
     ]
    }
   ],
   "source": [
    "# use insert function to add a row at the start of a 2D NumPy array\n",
    "import numpy as np\n",
    "\n",
    "twoDArray = np.array([[1, 2, 3], [4, 5, 6], [7, 8, 9]])\n",
    "newRow = np.array([[10, 11, 12]])\n",
    "new2DArray = np.insert(twoDArray, 2, newRow, axis=0)\n",
    "print(new2DArray)"
   ]
  },
  {
   "cell_type": "code",
   "execution_count": 13,
   "metadata": {},
   "outputs": [
    {
     "name": "stdout",
     "output_type": "stream",
     "text": [
      "[[ 1  2  3  4]\n",
      " [ 5  6  7  8]\n",
      " [ 9 10 11 12]]\n",
      "1 2 3 4\n",
      "5 6 7 8\n",
      "9 10 11 12\n"
     ]
    }
   ],
   "source": [
    "# accessing elements in a 2D NumPy array\n",
    "import numpy as np\n",
    "\n",
    "twoDArray = np.array([[1, 2, 3, 4], [5, 6, 7,8], [9, 10, 11, 12]])\n",
    "print(twoDArray)\n",
    "print(twoDArray[0, 0], twoDArray[0, 1], twoDArray[0, 2], twoDArray[0, 3])\n",
    "print(twoDArray[1, 0], twoDArray[1, 1], twoDArray[1, 2], twoDArray[1, 3])\n",
    "print(twoDArray[2, 0], twoDArray[2, 1], twoDArray[2, 2], twoDArray[2, 3])\n"
   ]
  },
  {
   "cell_type": "code",
   "execution_count": null,
   "metadata": {},
   "outputs": [],
   "source": []
  }
 ],
 "metadata": {
  "kernelspec": {
   "display_name": "Python 3",
   "language": "python",
   "name": "python3"
  },
  "language_info": {
   "codemirror_mode": {
    "name": "ipython",
    "version": 3
   },
   "file_extension": ".py",
   "mimetype": "text/x-python",
   "name": "python",
   "nbconvert_exporter": "python",
   "pygments_lexer": "ipython3",
   "version": "3.10.15"
  }
 },
 "nbformat": 4,
 "nbformat_minor": 2
}
