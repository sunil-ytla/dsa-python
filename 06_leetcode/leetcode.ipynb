{
 "cells": [
  {
   "cell_type": "markdown",
   "metadata": {},
   "source": [
    "### Missing Number\n",
    "Write a function to find the missing number in a given integer array of 1 to 100. The function takes to parameter the array and the number of elements that needs to be in array.  For example if we want to find missing number from 1 to 6 the second parameter will be 6.\n",
    "\n",
    "Example\n",
    "\n",
    "missing_number([1, 2, 3, 4, 6], 6) # 5"
   ]
  },
  {
   "cell_type": "code",
   "execution_count": 3,
   "metadata": {},
   "outputs": [
    {
     "name": "stdout",
     "output_type": "stream",
     "text": [
      "5\n"
     ]
    }
   ],
   "source": [
    "def missing_number(arr, n):\n",
    "    return sum(range(1, n+1)) - sum(arr)\n",
    "\n",
    "arr = [1, 2, 3, 4, 6, 7, 8]\n",
    "n = 8\n",
    "print(missing_number(arr, n))"
   ]
  },
  {
   "cell_type": "markdown",
   "metadata": {},
   "source": [
    "### ARRAY/LIST Interview question\n",
    "\n",
    "write a program to find all pairs of integers whose sum is equal to given number\n",
    "\n",
    "Input: [2, 6, 3, 9, 11] , 9 -> Output: [6, 3]"
   ]
  },
  {
   "cell_type": "code",
   "execution_count": 8,
   "metadata": {},
   "outputs": [
    {
     "data": {
      "text/plain": [
       "(4, 3)"
      ]
     },
     "execution_count": 8,
     "metadata": {},
     "output_type": "execute_result"
    }
   ],
   "source": [
    "def output_answer(arr, target):\n",
    "    for i, n in enumerate(arr):\n",
    "        for j, m in enumerate(arr[:i]):\n",
    "            if n+m == target:\n",
    "                return i, j\n",
    "\n",
    "arr = [2,6,3,9,11] \n",
    "target = 20\n",
    "output_answer(arr, target)"
   ]
  },
  {
   "cell_type": "code",
   "execution_count": 10,
   "metadata": {},
   "outputs": [
    {
     "data": {
      "text/plain": [
       "[3, 4]"
      ]
     },
     "execution_count": 10,
     "metadata": {},
     "output_type": "execute_result"
    }
   ],
   "source": [
    "def output_answer_optm(arr, target):\n",
    "    seen = {}\n",
    "\n",
    "    for i, num in enumerate(arr):\n",
    "        compliment = target - num\n",
    "\n",
    "        if compliment in seen:\n",
    "            return [seen[compliment], i]\n",
    "\n",
    "        seen[num] = i\n",
    "\n",
    "arr = [2,6,3,9,11] \n",
    "target = 20\n",
    "output_answer_optm(arr, target)"
   ]
  },
  {
   "cell_type": "code",
   "execution_count": 1,
   "metadata": {},
   "outputs": [
    {
     "data": {
      "text/plain": [
       "8"
      ]
     },
     "execution_count": 1,
     "metadata": {},
     "output_type": "execute_result"
    }
   ],
   "source": [
    "# Question: Check if an array contians a certain element\n",
    "\n",
    "import numpy as np\n",
    "\n",
    "myArray = np.array([1,2,3,4,5,6,7,8,9,10,11,12,13,14,15,16])\n",
    "\n",
    "def find_num(array, num):\n",
    "\n",
    "    for i,n in enumerate(array):\n",
    "        if n == num:\n",
    "            return i\n",
    "    \n",
    "    return None\n",
    "\n",
    "\n",
    "find_num(myArray, 9)"
   ]
  },
  {
   "cell_type": "markdown",
   "metadata": {},
   "source": [
    "Max Product of Two Integers\n",
    "Find the maximum product of two integers in an array where all elements are positive.\n",
    "\n",
    "Example\n",
    "\n",
    "arr = [1, 7, 3, 4, 9, 5] \n",
    "max_product(arr) # Output: 63 (9*7)"
   ]
  },
  {
   "cell_type": "code",
   "execution_count": 11,
   "metadata": {},
   "outputs": [
    {
     "data": {
      "text/plain": [
       "72"
      ]
     },
     "execution_count": 11,
     "metadata": {},
     "output_type": "execute_result"
    }
   ],
   "source": [
    "def max_product(arr):\n",
    "    max1, max2 = 0,0\n",
    "    for i,n in enumerate(arr):\n",
    "        if n > max1:\n",
    "            max2 = max1\n",
    "            max1 = n\n",
    "        elif n > max2:\n",
    "            max2 = n\n",
    "    return max1 * max2\n",
    "\n",
    "arr = [9,7,6,5,8]\n",
    "max_product(arr)"
   ]
  },
  {
   "cell_type": "markdown",
   "metadata": {},
   "source": [
    "2D Lists\n",
    "Given 2D list calculate the sum of diagonal elements.\n",
    "\n",
    "Example\n",
    "\n",
    "myList2D= [[1,2,3],[4,5,6],[7,8,9]] \n",
    " \n",
    "diagonal_sum(myList2D) # 15\n"
   ]
  },
  {
   "cell_type": "code",
   "execution_count": null,
   "metadata": {},
   "outputs": [],
   "source": [
    "def diagonal_sum(list_2d):\n",
    "    n = len(list_2d)\n",
    "    sum = 0\n",
    "    for i in range(n):\n",
    "        sum+=list_2d[i][i]\n",
    "    return sum"
   ]
  },
  {
   "cell_type": "code",
   "execution_count": 4,
   "metadata": {},
   "outputs": [
    {
     "data": {
      "text/plain": [
       "[[1, 2, 3], [4, 5, 6], [7, 8, 9]]"
      ]
     },
     "execution_count": 4,
     "metadata": {},
     "output_type": "execute_result"
    }
   ],
   "source": [
    "myList2D= [[1,2,3],[4,5,6],[7,8,9]] "
   ]
  },
  {
   "cell_type": "markdown",
   "metadata": {},
   "source": [
    "Duplicate Number\n",
    "Write a function to remove the duplicate numbers on given integer array/list.\n",
    "\n",
    "Example\n",
    "\n",
    "remove_duplicates([1, 1, 2, 2, 3, 4, 5])\n",
    "Output : [1, 2, 3, 4, 5]"
   ]
  },
  {
   "cell_type": "code",
   "execution_count": 12,
   "metadata": {},
   "outputs": [
    {
     "data": {
      "text/plain": [
       "[1, 2, 3, 4, 5]"
      ]
     },
     "execution_count": 12,
     "metadata": {},
     "output_type": "execute_result"
    }
   ],
   "source": [
    "def remove_duplicates(lst):\n",
    "    seen = set()\n",
    "    for item in lst:\n",
    "        if item not in seen:\n",
    "            seen.add(item)\n",
    "    return list(seen)\n",
    "\n",
    "lst = [1, 1, 2, 2, 3, 4, 5]\n",
    "\n",
    "remove_duplicates(lst)"
   ]
  },
  {
   "cell_type": "markdown",
   "metadata": {},
   "source": [
    "Contains Duplicate\n",
    "Given an integer array nums, return true if any value appears at least twice in the array, and return false if every element is distinct.\n",
    "\n",
    "Example :\n",
    "\n",
    "Input: nums = [1,2,3,1]\n",
    "Output: true\n",
    "Hint: Use sets"
   ]
  },
  {
   "cell_type": "code",
   "execution_count": 14,
   "metadata": {},
   "outputs": [
    {
     "data": {
      "text/plain": [
       "True"
      ]
     },
     "execution_count": 14,
     "metadata": {},
     "output_type": "execute_result"
    }
   ],
   "source": [
    "nums = [1,2,3,1]\n",
    "\n",
    "def contains_duplicate(nums):\n",
    "    # TODO\n",
    "    s = set()\n",
    "    for ele in nums:\n",
    "        if ele not in s:\n",
    "            s.add(ele)\n",
    "        else:\n",
    "            return True\n",
    "    return False\n",
    "\n",
    "contains_duplicate(nums)"
   ]
  },
  {
   "cell_type": "code",
   "execution_count": 17,
   "metadata": {},
   "outputs": [
    {
     "data": {
      "text/plain": [
       "True"
      ]
     },
     "execution_count": 17,
     "metadata": {},
     "output_type": "execute_result"
    }
   ],
   "source": [
    "# given two list find if one list is permutaion of another list\n",
    "\n",
    "def permutaiton(list1, list2):\n",
    "\n",
    "    if len(list1) != len(list2):\n",
    "        return False\n",
    "    list1.sort()\n",
    "    list2.sort()\n",
    "    if list1 == list2:\n",
    "        return True\n",
    "    else:\n",
    "        return False    \n",
    "    \n",
    "\n",
    "list1 = ['a', 'c', 'b']\n",
    "list2 = ['a', 'b', 'c']\n",
    "\n",
    "permutaiton(list1, list2)\n"
   ]
  },
  {
   "attachments": {
    "image.png": {
     "image/png": "[encoded data removed]"
    }
   },
   "cell_type": "markdown",
   "metadata": {},
   "source": [
    "Rotate Matrix/ Image - LeetCode 48\n",
    "You are given an n x n 2D matrix representing an image, rotate the image by 90 degrees (clockwise).\n",
    "\n",
    "You have to rotate the image in-place, which means you have to modify the input 2D matrix directly.\n",
    "\n",
    "DO NOT allocate another 2D matrix and do the rotation.\n",
    "\n",
    "Example:\n",
    "![image.png](attachment:image.png)\n",
    "\n",
    "Input: matrix = [[1,2,3],[4,5,6],[7,8,9]]\n",
    "Output: [[7,4,1],[8,5,2],[9,6,3]]"
   ]
  },
  {
   "cell_type": "code",
   "execution_count": 24,
   "metadata": {},
   "outputs": [
    {
     "name": "stdout",
     "output_type": "stream",
     "text": [
      "[[7, 4, 1], [8, 5, 2], [9, 6, 3]]\n",
      "[[7, 4, 1], [8, 5, 2], [9, 6, 3]]\n"
     ]
    }
   ],
   "source": [
    "def rotate_matrix_return(matrix):\n",
    "    n = len(matrix)\n",
    "    rotated_matrix = []\n",
    "    for i in range(n):\n",
    "        row = []\n",
    "        for j in range(n-1, -1, -1):\n",
    "            row.append(matrix[j][i])\n",
    "        rotated_matrix.append(row)\n",
    "    return rotated_matrix\n",
    "\n",
    "def rotate_matrix_inplace(matrix):\n",
    "    for i in range(n):\n",
    "        for j in range(i+1,n):\n",
    "            matrix[i][j], matrix[j][i] =  matrix[j][i], matrix[i][j]\n",
    "\n",
    "    for row in matrix:\n",
    "        row.reverse()\n",
    "\n",
    "\n",
    "\n",
    "\n",
    "matrix = [[1,2,3],[4,5,6],[7,8,9]]\n",
    "print(rotate_matrix_return(matrix))\n",
    "rotate_matrix_inplace(matrix)\n",
    "print(matrix)"
   ]
  },
  {
   "cell_type": "code",
   "execution_count": null,
   "metadata": {},
   "outputs": [],
   "source": []
  }
 ],
 "metadata": {
  "kernelspec": {
   "display_name": "Python 3",
   "language": "python",
   "name": "python3"
  },
  "language_info": {
   "codemirror_mode": {
    "name": "ipython",
    "version": 3
   },
   "file_extension": ".py",
   "mimetype": "text/x-python",
   "name": "python",
   "nbconvert_exporter": "python",
   "pygments_lexer": "ipython3",
   "version": "3.10.15"
  }
 },
 "nbformat": 4,
 "nbformat_minor": 2
}
