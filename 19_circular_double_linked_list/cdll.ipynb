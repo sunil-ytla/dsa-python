{
 "cells": [
  {
   "cell_type": "code",
   "execution_count": 51,
   "metadata": {},
   "outputs": [],
   "source": [
    "class Node:\n",
    "\n",
    "    def __init__(self, value):\n",
    "        self.value = value\n",
    "        self.next = None\n",
    "        self.prev = None\n",
    "    \n",
    "    def __str__(self):\n",
    "        return str(self.value)\n",
    "\n",
    "\n",
    "class CircularDoublyLinkedList:\n",
    "\n",
    "    def __init__(self):\n",
    "        self.head = None\n",
    "        self.tail = None\n",
    "        self.length=0\n",
    "\n",
    "    # def __init__(self, value):\n",
    "    #     new_node = Node(value)\n",
    "    #     self.head = new_node\n",
    "    #     self.tail = new_node\n",
    "    #     new_node.next = new_node\n",
    "    #     new_node.prev = new_node\n",
    "    #     self.length = 1\n",
    "\n",
    "    def __str__(self):\n",
    "        curr = self.head\n",
    "        result = ''\n",
    "        while curr:\n",
    "            result+=str(curr.value)\n",
    "            if curr==self.tail:\n",
    "                break\n",
    "            curr=curr.next\n",
    "            result+=' <-> '\n",
    "        return result\n",
    "\n",
    "    def append(self, value):\n",
    "        new_node = Node(value)\n",
    "        if self.length == 0:\n",
    "            self.head = new_node\n",
    "            self.tail = new_node\n",
    "            new_node.next = new_node\n",
    "            new_node.prev = new_node\n",
    "        else:\n",
    "            new_node.prev = self.tail\n",
    "            new_node.next = self.head\n",
    "            self.head.prev = new_node\n",
    "            self.tail.next = new_node\n",
    "            self.tail = new_node\n",
    "        self.length+=1\n",
    "    \n",
    "    def prepend(self, value):\n",
    "        new_node = Node(value)\n",
    "        if self.length == 0:\n",
    "            self.head = new_node\n",
    "            self.tail = new_node\n",
    "            new_node.next = new_node\n",
    "            new_node.prev = new_node\n",
    "        else:\n",
    "            self.tail.next = new_node\n",
    "            self.head.prev = new_node\n",
    "            new_node.next = self.head\n",
    "            new_node.prev = self.tail\n",
    "            self.head = new_node\n",
    "        self.length+=1\n",
    "    \n",
    "    def traverse(self):\n",
    "        curr = self.head\n",
    "        while curr:\n",
    "            print(curr.value)\n",
    "            if curr==self.tail:\n",
    "                break\n",
    "            curr=curr.next\n",
    "    \n",
    "    def reverse_traverse(self):\n",
    "        curr = self.tail\n",
    "        while curr:\n",
    "            print(curr.value)\n",
    "            if curr==self.head:\n",
    "                break\n",
    "            curr=curr.prev\n",
    "\n",
    "    def search(self, target):\n",
    "        if not self.head:  # Check for an empty list\n",
    "            return False\n",
    "\n",
    "        curr = self.head\n",
    "        while True:  # Infinite loop; we'll break explicitly\n",
    "            if curr.value == target:  # Check if the current node matches the target\n",
    "                return True\n",
    "            curr = curr.next\n",
    "            if curr == self.head:  # Loop back to the head indicates traversal is complete\n",
    "                break\n",
    "        return False\n",
    "    \n",
    "    def get(self, index):\n",
    "        if index < 0 or index >= self.length:\n",
    "            return None\n",
    "        current_node = None\n",
    "        if index < self.length//2:\n",
    "            current_node = self.head\n",
    "            for i in range(index):\n",
    "                current_node = current_node.next\n",
    "        else:\n",
    "            current_node = self.tail\n",
    "            for i in range(self.length-1, index, -1):\n",
    "                current_node = current_node.prev\n",
    "        return current_node\n",
    "    \n",
    "    def set_value(self, index, value):\n",
    "        temp = self.get(index)\n",
    "        if temp:\n",
    "            temp.value = value\n",
    "            return True\n",
    "        return False\n",
    "    \n",
    "    def insert(self,index, value):\n",
    "        if index <0 or index > self.length:\n",
    "            print(\"Error! index out of bounds\")\n",
    "            return\n",
    "        if index == 0:\n",
    "            self.prepend(value)\n",
    "            return\n",
    "        if index == self.length:\n",
    "            self.append(value)\n",
    "            return\n",
    "        new_node = Node(value)\n",
    "        temp_node = self.get(index-1)\n",
    "        new_node.next = temp_node.next\n",
    "        new_node.prev = temp_node\n",
    "        temp_node.next.prev = new_node\n",
    "        temp_node.next = new_node\n",
    "        self.length+=1 \n",
    "    \n",
    "    def pop_first(self):\n",
    "        if self.length == 0:\n",
    "            return None\n",
    "        popped_node = self.head\n",
    "        if self.length == 1:\n",
    "            self.head = None\n",
    "            self.tail = None\n",
    "        else:\n",
    "            self.head = self.head.next\n",
    "            popped_node.prev = None\n",
    "            popped_node.next = None\n",
    "            self.head.prev = self.tail\n",
    "            self.tail.next = self.head\n",
    "        self.length -= 1\n",
    "\n",
    "    def pop(self):\n",
    "        if self.length == 0:\n",
    "            return None\n",
    "        popped_node = self.tail\n",
    "        if self.length == 1:\n",
    "            self.head = None\n",
    "            self.tail = None\n",
    "        else:\n",
    "            self.tail = self.tail.prev\n",
    "            popped_node.next = None\n",
    "            popped_node.prev = None\n",
    "            self.tail.next = self.head\n",
    "            self.head.prev = self.tail\n",
    "        self.length -= 1\n",
    "        return popped_node\n",
    "\n",
    "    def remove(self, index):\n",
    "        if index < 0 or index >= self.length:\n",
    "            return None\n",
    "        if index == 0:\n",
    "            return self.pop_first()\n",
    "        if index == self.length - 1:\n",
    "            return self.pop()\n",
    "        popped_node = self.get(index)\n",
    "        popped_node.prev.next = popped_node.next\n",
    "        popped_node.next.prev = popped_node.prev\n",
    "        popped_node.next = None\n",
    "        popped_node.prev = None\n",
    "        self.length -= 1\n",
    "        return popped_node\n",
    "\n",
    "    def delete_all(self):\n",
    "        self.head = None\n",
    "        self.tail = None\n",
    "        self.length = 0\n",
    "\n",
    "            \n",
    "\n",
    "\n",
    "\n"
   ]
  },
  {
   "cell_type": "code",
   "execution_count": 53,
   "metadata": {},
   "outputs": [
    {
     "name": "stdout",
     "output_type": "stream",
     "text": [
      "2 <-> 3 <-> 4 <-> 5\n",
      "1 <-> 2 <-> 3 <-> 4 <-> 5\n",
      "Error! index out of bounds\n",
      "1 <-> 2 <-> 3 <-> 4 <-> 5\n",
      "2 <-> 3 <-> 4 <-> 5\n",
      "2 <-> 3 <-> 4\n",
      "2 <-> 4\n"
     ]
    }
   ],
   "source": [
    "new_cdll = CircularDoublyLinkedList()\n",
    "\n",
    "new_cdll.append(2)\n",
    "new_cdll.append(3)\n",
    "new_cdll.append(4)\n",
    "new_cdll.append(5)\n",
    "print(new_cdll)\n",
    "new_cdll.prepend(1)\n",
    "print(new_cdll)\n",
    "\n",
    "new_cdll.insert(6, 50)\n",
    "print(new_cdll)\n",
    "\n",
    "new_cdll.pop_first()\n",
    "print(new_cdll)\n",
    "\n",
    "new_cdll.pop()\n",
    "print(new_cdll)\n",
    "\n",
    "new_cdll.remove(1)\n",
    "print(new_cdll)"
   ]
  },
  {
   "cell_type": "code",
   "execution_count": 33,
   "metadata": {},
   "outputs": [
    {
     "name": "stdout",
     "output_type": "stream",
     "text": [
      "1\n",
      "2\n",
      "3\n",
      "4\n",
      "5\n"
     ]
    }
   ],
   "source": [
    "new_cdll.traverse()"
   ]
  },
  {
   "cell_type": "code",
   "execution_count": 34,
   "metadata": {},
   "outputs": [
    {
     "name": "stdout",
     "output_type": "stream",
     "text": [
      "5\n",
      "4\n",
      "3\n",
      "2\n",
      "1\n"
     ]
    }
   ],
   "source": [
    "new_cdll.reverse_traverse()"
   ]
  },
  {
   "cell_type": "code",
   "execution_count": 35,
   "metadata": {},
   "outputs": [
    {
     "data": {
      "text/plain": [
       "False"
      ]
     },
     "execution_count": 35,
     "metadata": {},
     "output_type": "execute_result"
    }
   ],
   "source": [
    "new_cdll.search(8)"
   ]
  },
  {
   "cell_type": "code",
   "execution_count": 36,
   "metadata": {},
   "outputs": [
    {
     "name": "stdout",
     "output_type": "stream",
     "text": [
      "None\n"
     ]
    }
   ],
   "source": [
    "print(new_cdll.get(-11))"
   ]
  },
  {
   "cell_type": "code",
   "execution_count": 38,
   "metadata": {},
   "outputs": [
    {
     "data": {
      "text/plain": [
       "True"
      ]
     },
     "execution_count": 38,
     "metadata": {},
     "output_type": "execute_result"
    }
   ],
   "source": [
    "new_cdll.set_value(2, 99)"
   ]
  },
  {
   "cell_type": "code",
   "execution_count": 39,
   "metadata": {},
   "outputs": [
    {
     "name": "stdout",
     "output_type": "stream",
     "text": [
      "1 <-> 2 <-> 99 <-> 4 <-> 5\n"
     ]
    }
   ],
   "source": [
    "print(new_cdll)"
   ]
  },
  {
   "cell_type": "code",
   "execution_count": null,
   "metadata": {},
   "outputs": [],
   "source": []
  }
 ],
 "metadata": {
  "kernelspec": {
   "display_name": "Python 3",
   "language": "python",
   "name": "python3"
  },
  "language_info": {
   "codemirror_mode": {
    "name": "ipython",
    "version": 3
   },
   "file_extension": ".py",
   "mimetype": "text/x-python",
   "name": "python",
   "nbconvert_exporter": "python",
   "pygments_lexer": "ipython3",
   "version": "3.10.15"
  }
 },
 "nbformat": 4,
 "nbformat_minor": 2
}
