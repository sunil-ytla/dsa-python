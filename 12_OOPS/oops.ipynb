{
 "cells": [
  {
   "cell_type": "code",
   "execution_count": 1,
   "metadata": {},
   "outputs": [
    {
     "name": "stdout",
     "output_type": "stream",
     "text": [
      "yellow\n",
      "10\n"
     ]
    }
   ],
   "source": [
    "class StarCookie:\n",
    "    pass\n",
    "\n",
    "star_cookie1 = StarCookie()\n",
    "star_cookie1.color = \"yellow\"\n",
    "star_cookie1.weight = 10\n",
    "print(star_cookie1.color)\n",
    "print(star_cookie1.weight)"
   ]
  },
  {
   "cell_type": "code",
   "execution_count": 2,
   "metadata": {},
   "outputs": [
    {
     "name": "stdout",
     "output_type": "stream",
     "text": [
      "yellow\n",
      "10\n"
     ]
    }
   ],
   "source": [
    "class StarCookie:\n",
    "    def __init__(self, color, weight):\n",
    "        self.color = color\n",
    "        self.weight = weight\n",
    "\n",
    "star_cookie1 = StarCookie(\"yellow\", 10)\n",
    "print(star_cookie1.color)\n",
    "print(star_cookie1.weight)"
   ]
  },
  {
   "cell_type": "code",
   "execution_count": 3,
   "metadata": {},
   "outputs": [
    {
     "name": "stdout",
     "output_type": "stream",
     "text": [
      "yellow\n",
      "10\n",
      "0.2\n"
     ]
    }
   ],
   "source": [
    "class StarCookie:\n",
    "    milk = 0.2\n",
    "    def __init__(self, color, weight):\n",
    "        self.color = color\n",
    "        self.weight = weight\n",
    "\n",
    "star_cookie1 = StarCookie(\"yellow\", 10)\n",
    "print(star_cookie1.color)\n",
    "print(star_cookie1.weight)\n",
    "print(star_cookie1.milk)"
   ]
  },
  {
   "cell_type": "code",
   "execution_count": 4,
   "metadata": {},
   "outputs": [
    {
     "name": "stdout",
     "output_type": "stream",
     "text": [
      "{'color': 'yellow', 'weight': 10}\n",
      "{'__module__': '__main__', 'milk': 0.2, '__init__': <function StarCookie.__init__ at 0x11126d090>, '__dict__': <attribute '__dict__' of 'StarCookie' objects>, '__weakref__': <attribute '__weakref__' of 'StarCookie' objects>, '__doc__': None}\n"
     ]
    }
   ],
   "source": [
    "print(star_cookie1.__dict__)\n",
    "print(StarCookie.__dict__)"
   ]
  },
  {
   "cell_type": "code",
   "execution_count": 9,
   "metadata": {},
   "outputs": [
    {
     "name": "stdout",
     "output_type": "stream",
     "text": [
      "{'color': 'yellow', 'weight': 10, 'milk': 0.3}\n",
      "{'color': 'green', 'weight': 20}\n",
      "{'__module__': '__main__', 'milk': 0.2, '__init__': <function StarCookie.__init__ at 0x11126cdc0>, '__dict__': <attribute '__dict__' of 'StarCookie' objects>, '__weakref__': <attribute '__weakref__' of 'StarCookie' objects>, '__doc__': None}\n",
      "0.3\n",
      "0.2\n",
      "0.2\n"
     ]
    }
   ],
   "source": [
    "class StarCookie:\n",
    "    milk = 0.2\n",
    "    def __init__(self, color, weight):\n",
    "        self.color = color\n",
    "        self.weight = weight\n",
    "\n",
    "star_cookie1 = StarCookie(\"yellow\", 10)\n",
    "star_cookie2 = StarCookie(\"green\", 20)\n",
    "# print(star_cookie1.color)\n",
    "# print(star_cookie1.weight)\n",
    "# print(star_cookie1.milk)\n",
    "\n",
    "star_cookie1.milk = 0.3\n",
    "print(star_cookie1.__dict__)\n",
    "print(star_cookie2.__dict__)\n",
    "print(StarCookie.__dict__)\n",
    "\n",
    "print(star_cookie1.milk)\n",
    "print(star_cookie2.milk)\n",
    "print(StarCookie.milk)"
   ]
  },
  {
   "cell_type": "code",
   "execution_count": 10,
   "metadata": {},
   "outputs": [
    {
     "name": "stdout",
     "output_type": "stream",
     "text": [
      "{'color': 'yellow', 'weight': 10}\n",
      "{'color': 'green', 'weight': 20}\n",
      "{'__module__': '__main__', 'milk': 0.3, '__init__': <function StarCookie.__init__ at 0x11126d6c0>, '__dict__': <attribute '__dict__' of 'StarCookie' objects>, '__weakref__': <attribute '__weakref__' of 'StarCookie' objects>, '__doc__': None}\n",
      "0.3\n",
      "0.3\n",
      "0.3\n"
     ]
    }
   ],
   "source": [
    "class StarCookie:\n",
    "    milk = 0.2\n",
    "    def __init__(self, color, weight):\n",
    "        self.color = color\n",
    "        self.weight = weight\n",
    "\n",
    "star_cookie1 = StarCookie(\"yellow\", 10)\n",
    "star_cookie2 = StarCookie(\"green\", 20)\n",
    "# print(star_cookie1.color)\n",
    "# print(star_cookie1.weight)\n",
    "# print(star_cookie1.milk)\n",
    "\n",
    "StarCookie.milk = 0.3\n",
    "print(star_cookie1.__dict__)\n",
    "print(star_cookie2.__dict__)\n",
    "print(StarCookie.__dict__)\n",
    "\n",
    "print(star_cookie1.milk)\n",
    "print(star_cookie2.milk)\n",
    "print(StarCookie.milk)"
   ]
  },
  {
   "cell_type": "code",
   "execution_count": null,
   "metadata": {},
   "outputs": [],
   "source": []
  }
 ],
 "metadata": {
  "kernelspec": {
   "display_name": "Python 3",
   "language": "python",
   "name": "python3"
  },
  "language_info": {
   "codemirror_mode": {
    "name": "ipython",
    "version": 3
   },
   "file_extension": ".py",
   "mimetype": "text/x-python",
   "name": "python",
   "nbconvert_exporter": "python",
   "pygments_lexer": "ipython3",
   "version": "3.10.15"
  }
 },
 "nbformat": 4,
 "nbformat_minor": 2
}
