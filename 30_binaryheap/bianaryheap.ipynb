{
 "cells": [
  {
   "cell_type": "code",
   "execution_count": 25,
   "metadata": {},
   "outputs": [],
   "source": [
    "# Array based implementation\n",
    "\n",
    "class Heap:\n",
    "\n",
    "    def __init__(self, size):\n",
    "        self.custom_list = [None]*(size+1)\n",
    "        self.heap_size = 0\n",
    "        self.max_size = size+1\n",
    "    \n",
    "\n",
    "def peek_of_heap(rootNode):\n",
    "    if not rootNode:\n",
    "        return\n",
    "    else:\n",
    "        return rootNode.custom_list[1]\n",
    "\n",
    "def size_of_heap(rootNode):\n",
    "    if not rootNode:\n",
    "        return\n",
    "    else:\n",
    "        return rootNode.heap_size\n",
    "\n",
    "def level_order_traversal(rootNode):\n",
    "    if not rootNode:\n",
    "        return\n",
    "    else:\n",
    "        for i in range(1, rootNode.heap_size+1):\n",
    "            print(rootNode.custom_list[i])\n",
    "\n",
    "def heapify_insert(rootNode, index, heap_type):\n",
    "    parent_index = int(index/2)\n",
    "    if index <=1:\n",
    "        return\n",
    "    if heap_type == \"Min\":\n",
    "        if rootNode.custom_list[index] < rootNode.custom_list[parent_index]:\n",
    "            rootNode.custom_list[index], rootNode.custom_list[parent_index] = \\\n",
    "            rootNode.custom_list[parent_index], rootNode.custom_list[index]\n",
    "        heapify_insert(rootNode, parent_index, heap_type)\n",
    "    elif heap_type == \"Max\":\n",
    "        if rootNode.custom_list[index] > rootNode.custom_list[parent_index]:\n",
    "            rootNode.custom_list[index], rootNode.custom_list[parent_index] = \\\n",
    "            rootNode.custom_list[parent_index], rootNode.custom_list[index]\n",
    "        heapify_insert(rootNode, parent_index, heap_type)\n",
    "\n",
    "def insert_node(rootNode, node_value, heap_type=\"Max\"):\n",
    "    if rootNode.heap_size+1 == rootNode.max_size:\n",
    "        print(\"Binary Heap is Full\" )\n",
    "        return \"Binary Heap is Full\" \n",
    "    rootNode.custom_list[rootNode.heap_size+1] = node_value\n",
    "    rootNode.heap_size += 1\n",
    "    heapify_insert(rootNode, rootNode.heap_size, heap_type)\n",
    "    print(\"value has been sucessfulley inserted\")\n",
    "    return \"value has been sucessfulley inserted\"\n",
    "\n",
    "\n",
    "def heapify_tree_extract(rootNode, index, heap_type):\n",
    "    left_index = index*2\n",
    "    right_index = (index*2)+1\n",
    "    swap_child = 0\n",
    "\n",
    "    if rootNode.heap_size < left_index:\n",
    "        return\n",
    "    if rootNode.heap_size == left_index:\n",
    "        if heap_type == \"Min\":\n",
    "            if rootNode.custom_list[index] > rootNode.custom_list[left_index]:\n",
    "                rootNode.custom_list[index], rootNode.custom_list[left_index] = \\\n",
    "                rootNode.custom_list[left_index], rootNode.custom_list[index]\n",
    "            return\n",
    "        else:\n",
    "            if rootNode.custom_list[index] < rootNode.custom_list[left_index]:\n",
    "                rootNode.custom_list[index], rootNode.custom_list[left_index] = \\\n",
    "                rootNode.custom_list[left_index], rootNode.custom_list[index]\n",
    "            return\n",
    "    else:\n",
    "        if heap_type == \"Min\":\n",
    "            if rootNode.custom_list[left_index] < rootNode.custom_list[right_index]:\n",
    "                swap_child = left_index\n",
    "            else:\n",
    "                swap_child = right_index\n",
    "            if rootNode.custom_list[index] > rootNode.custom_list[swap_child]:\n",
    "                rootNode.custom_list[index], rootNode.custom_list[swap_child] = \\\n",
    "                rootNode.custom_list[swap_child], rootNode.custom_list[index]\n",
    "        else:\n",
    "            if rootNode.custom_list[left_index] > rootNode.custom_list[right_index]:\n",
    "                swap_child = left_index\n",
    "            else:\n",
    "                swap_child = right_index\n",
    "            if rootNode.custom_list[index] < rootNode.custom_list[swap_child]:\n",
    "                rootNode.custom_list[index], rootNode.custom_list[swap_child] = \\\n",
    "                rootNode.custom_list[swap_child], rootNode.custom_list[index]\n",
    "        heapify_tree_extract(rootNode, swap_child, heap_type)\n",
    "\n",
    "\n",
    "def extract_node(rootNode, heap_type=\"Max\"):\n",
    "    if rootNode.heap_size == 0:\n",
    "        return\n",
    "    else:\n",
    "        extracted_node = rootNode.custom_list[1]\n",
    "        rootNode.custom_list[1] = rootNode.custom_list[rootNode.heap_size]\n",
    "        rootNode.custom_list[rootNode.heap_size] = None\n",
    "        rootNode.heap_size-=1\n",
    "        heapify_tree_extract(rootNode, 1, heap_type)\n",
    "        return extracted_node\n",
    " \n",
    "def deleteEntireBH(rootNode):\n",
    "    rootNode.custom_list = None\n",
    "    rootNode.heap_size = 0\n",
    "        "
   ]
  },
  {
   "cell_type": "code",
   "execution_count": 26,
   "metadata": {},
   "outputs": [
    {
     "name": "stdout",
     "output_type": "stream",
     "text": [
      "0\n"
     ]
    }
   ],
   "source": [
    "newBH = Heap(5)\n",
    "print(size_of_heap(newBH))"
   ]
  },
  {
   "cell_type": "code",
   "execution_count": 27,
   "metadata": {},
   "outputs": [
    {
     "name": "stdout",
     "output_type": "stream",
     "text": [
      "value has been sucessfulley inserted\n",
      "value has been sucessfulley inserted\n",
      "value has been sucessfulley inserted\n",
      "value has been sucessfulley inserted\n",
      "value has been sucessfulley inserted\n"
     ]
    },
    {
     "data": {
      "text/plain": [
       "'value has been sucessfulley inserted'"
      ]
     },
     "execution_count": 27,
     "metadata": {},
     "output_type": "execute_result"
    }
   ],
   "source": [
    "newBH = Heap(5)\n",
    "\n",
    "insert_node(newBH, 4)\n",
    "insert_node(newBH, 5)\n",
    "insert_node(newBH, 2)\n",
    "insert_node(newBH, 1)\n",
    "insert_node(newBH, 0)"
   ]
  },
  {
   "cell_type": "code",
   "execution_count": 28,
   "metadata": {},
   "outputs": [
    {
     "name": "stdout",
     "output_type": "stream",
     "text": [
      "5\n",
      "4\n",
      "2\n",
      "1\n",
      "0\n"
     ]
    }
   ],
   "source": [
    "level_order_traversal(newBH)"
   ]
  },
  {
   "cell_type": "code",
   "execution_count": 29,
   "metadata": {},
   "outputs": [
    {
     "data": {
      "text/plain": [
       "5"
      ]
     },
     "execution_count": 29,
     "metadata": {},
     "output_type": "execute_result"
    }
   ],
   "source": [
    "extract_node(newBH)"
   ]
  },
  {
   "cell_type": "code",
   "execution_count": 30,
   "metadata": {},
   "outputs": [
    {
     "name": "stdout",
     "output_type": "stream",
     "text": [
      "4\n",
      "1\n",
      "2\n",
      "0\n"
     ]
    }
   ],
   "source": [
    "level_order_traversal(newBH)"
   ]
  },
  {
   "cell_type": "code",
   "execution_count": null,
   "metadata": {},
   "outputs": [],
   "source": []
  }
 ],
 "metadata": {
  "kernelspec": {
   "display_name": "Python 3",
   "language": "python",
   "name": "python3"
  },
  "language_info": {
   "codemirror_mode": {
    "name": "ipython",
    "version": 3
   },
   "file_extension": ".py",
   "mimetype": "text/x-python",
   "name": "python",
   "nbconvert_exporter": "python",
   "pygments_lexer": "ipython3",
   "version": "3.10.16"
  }
 },
 "nbformat": 4,
 "nbformat_minor": 2
}
