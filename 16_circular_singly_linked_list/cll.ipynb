{
 "cells": [
  {
   "cell_type": "code",
   "execution_count": 58,
   "metadata": {},
   "outputs": [],
   "source": [
    "class Node:\n",
    "    def __init__(self, value):\n",
    "        self.value = value\n",
    "        self.next = None\n",
    "    \n",
    "    def __str__(self):\n",
    "        return str(self.value)\n"
   ]
  },
  {
   "cell_type": "code",
   "execution_count": null,
   "metadata": {},
   "outputs": [],
   "source": [
    "class CSLinkedList:\n",
    "\n",
    "    def __init__(self):\n",
    "        self.head = None\n",
    "        self.tail = None\n",
    "        self.length = 0\n",
    "\n",
    "    # def __init__(self, value):\n",
    "    #     new_node = Node(value)\n",
    "    #     new_node.next = new_node\n",
    "    #     self.head = new_node\n",
    "    #     self.tail = new_node\n",
    "    #     self.length = 1\n",
    "\n",
    "    def __str__(self):\n",
    "        temp_node = self.head\n",
    "        result = ''\n",
    "        while temp_node:\n",
    "            result+=str(temp_node.value)\n",
    "            temp_node=temp_node.next\n",
    "            if temp_node==self.head:\n",
    "                break\n",
    "            result+='->'\n",
    "        return result\n",
    "\n",
    "    def append(self, value):\n",
    "        new_node = Node(value)\n",
    "        if self.length == 0:\n",
    "            self.head = new_node\n",
    "            self.tail = new_node\n",
    "            new_node.next = new_node\n",
    "        else:\n",
    "            self.tail.next = new_node\n",
    "            new_node.next = self.head\n",
    "            self.tail = new_node\n",
    "        self.length+=1\n",
    "    \n",
    "    def prepend(self, value):\n",
    "        new_node = Node(value)\n",
    "        if self.head is None:\n",
    "            self.head = new_node\n",
    "            self.tail = new_node\n",
    "            new_node.next = new_node\n",
    "        else:\n",
    "            new_node.next = self.head\n",
    "            self.head = new_node\n",
    "            self.tail.next = new_node\n",
    "        self.length+=1\n",
    "    \n",
    "    def insert(self, index, value):\n",
    "        new_node = Node(value)\n",
    "        if index > self.length or index < 0:\n",
    "            raise Exception(\"index out of range\")\n",
    "        if index == 0:\n",
    "            if self.length == 0:\n",
    "                self.head = new_node\n",
    "                self.tail = new_node\n",
    "                new_node.next = new_node\n",
    "            else:\n",
    "                new_node.next = self.head\n",
    "                self.head = new_node\n",
    "                self.tail.next = new_node\n",
    "        elif index == self.length:\n",
    "            self.tail.next = new_node\n",
    "            new_node.next = self.head\n",
    "            self.tail = new_node\n",
    "        else:\n",
    "            temp_node = self.head\n",
    "            for _ in range(index-1):\n",
    "                temp_node = temp_node.next\n",
    "            new_node.next = temp_node.next\n",
    "            temp_node.next = new_node\n",
    "        self.length+=1\n",
    "    \n",
    "    def traverse(self):\n",
    "        current = self.head\n",
    "        while current is not None:\n",
    "            print(current.value)\n",
    "            current = current.next\n",
    "            if current == self.head:\n",
    "                break\n",
    "\n",
    "    def search(self, target):\n",
    "        temp = self.head\n",
    "        while temp:\n",
    "            if temp.value == target:\n",
    "                return True\n",
    "            temp = temp.next\n",
    "            if temp == self.head:\n",
    "                break\n",
    "        return False\n",
    "\n",
    "    def get(self, index):\n",
    "        if index < -1 or index >self.length:\n",
    "            return None\n",
    "        current = self.head\n",
    "        for _ in range(index):\n",
    "            current = current.next\n",
    "        return current\n",
    "\n",
    "    def set(self, index, value):\n",
    "        temp = self.get(index)\n",
    "        if temp:\n",
    "            temp.value = value\n",
    "            return True\n",
    "        return False\n",
    "\n",
    "    def pop_first(self):\n",
    "        popped_node = self.head\n",
    "        if self.length == 0:\n",
    "            return None\n",
    "        if self.length==1:\n",
    "            self.head = None\n",
    "            self.tail = None\n",
    "        else:\n",
    "            self.head = self.head.next\n",
    "            self.tail.next = self.head\n",
    "            popped_node.next = None\n",
    "        self.length-=1\n",
    "        return popped_node\n",
    "\n",
    "    def pop(self):\n",
    "        popped_node = self.tail\n",
    "        if self.length == 0:\n",
    "            return None\n",
    "        if self.length == 1:\n",
    "            self.head = self.tail = None\n",
    "        else:\n",
    "            popped_node = self.tail\n",
    "            temp = self.head\n",
    "            while temp.next is not self.tail:\n",
    "                temp=temp.next\n",
    "            temp.next = self.head\n",
    "            self.tail = temp\n",
    "            popped_node.next=None\n",
    "        self.length-=1\n",
    "        return popped_node\n",
    "    \n",
    "    def remove(self, index):\n",
    "        if index<0 or index >= self.length:\n",
    "            return None\n",
    "        elif index==0:\n",
    "            return self.pop_first\n",
    "        elif index == self.length-1:\n",
    "            return self.pop\n",
    "        prev_node = self.get(index-1)\n",
    "        popped_node = prev_node.next\n",
    "        prev_node.next = popped_node.next\n",
    "        popped_node.next = None\n",
    "        self.length-=1\n",
    "        return popped_node\n",
    "\n",
    "    def delete_all(self):\n",
    "        if self.length == 0:\n",
    "            return\n",
    "        self.tail.next = None\n",
    "        self.head = None\n",
    "        self.tail = None\n",
    "        self.length = 0\n",
    "    \n",
    "\n",
    "\n",
    "\n",
    "\n",
    "    \n",
    "            \n",
    "        "
   ]
  },
  {
   "cell_type": "code",
   "execution_count": 60,
   "metadata": {},
   "outputs": [
    {
     "name": "stdout",
     "output_type": "stream",
     "text": [
      "10->20->30->40\n",
      "10->20->50->30->40\n",
      "11->10->20->50->30->40\n"
     ]
    }
   ],
   "source": [
    "cll = CSLinkedList()\n",
    "cll.append(10)\n",
    "cll.append(20)\n",
    "cll.append(30)\n",
    "cll.append(40)\n",
    "print(cll)\n",
    "cll.insert(2, 50)\n",
    "print(cll)\n",
    "cll.insert(0, 11)\n",
    "print(cll)"
   ]
  },
  {
   "cell_type": "code",
   "execution_count": 61,
   "metadata": {},
   "outputs": [
    {
     "name": "stdout",
     "output_type": "stream",
     "text": [
      "11\n",
      "10\n",
      "20\n",
      "50\n",
      "30\n",
      "40\n"
     ]
    }
   ],
   "source": [
    "cll.traverse()"
   ]
  },
  {
   "cell_type": "code",
   "execution_count": 62,
   "metadata": {},
   "outputs": [
    {
     "data": {
      "text/plain": [
       "(True, False)"
      ]
     },
     "execution_count": 62,
     "metadata": {},
     "output_type": "execute_result"
    }
   ],
   "source": [
    "cll.search(50), cll.search(99)"
   ]
  },
  {
   "cell_type": "code",
   "execution_count": 68,
   "metadata": {},
   "outputs": [
    {
     "name": "stdout",
     "output_type": "stream",
     "text": [
      "11 10 40\n"
     ]
    }
   ],
   "source": [
    "print(cll.get(0), cll.get(1), cll.get(5))"
   ]
  },
  {
   "cell_type": "code",
   "execution_count": null,
   "metadata": {},
   "outputs": [],
   "source": []
  },
  {
   "cell_type": "code",
   "execution_count": null,
   "metadata": {},
   "outputs": [],
   "source": []
  },
  {
   "cell_type": "code",
   "execution_count": null,
   "metadata": {},
   "outputs": [],
   "source": []
  }
 ],
 "metadata": {
  "kernelspec": {
   "display_name": "Python 3",
   "language": "python",
   "name": "python3"
  },
  "language_info": {
   "codemirror_mode": {
    "name": "ipython",
    "version": 3
   },
   "file_extension": ".py",
   "mimetype": "text/x-python",
   "name": "python",
   "nbconvert_exporter": "python",
   "pygments_lexer": "ipython3",
   "version": "3.10.15"
  }
 },
 "nbformat": 4,
 "nbformat_minor": 2
}
